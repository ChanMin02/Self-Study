{
  "nbformat": 4,
  "nbformat_minor": 0,
  "metadata": {
    "colab": {
      "provenance": [],
      "mount_file_id": "1KPQr2dOYVr1HoSBv-Qgr9Jh2kOh7Ra3M",
      "authorship_tag": "ABX9TyP3kDm1RT+Nzm8EXKbBwB4X",
      "include_colab_link": true
    },
    "kernelspec": {
      "name": "python3",
      "display_name": "Python 3"
    },
    "language_info": {
      "name": "python"
    }
  },
  "cells": [
    {
      "cell_type": "markdown",
      "metadata": {
        "id": "view-in-github",
        "colab_type": "text"
      },
      "source": [
        "<a href=\"https://colab.research.google.com/github/ChanMin02/Self-Study/blob/main/Sub1/CS50x/Problem_Set_1.ipynb\" target=\"_parent\"><img src=\"https://colab.research.google.com/assets/colab-badge.svg\" alt=\"Open In Colab\"/></a>"
      ]
    },
    {
      "cell_type": "code",
      "source": [
        "%%writefile test.cpp\n",
        "#include <stdio.h>\n",
        "int main(void)\n",
        "{\n",
        "  int height = -1;\n",
        "  while (height <= -1){\n",
        "    printf(\"Height: \");\n",
        "    scanf(\"%d\",&height);\n",
        "  }\n",
        "\n",
        "  for (int i=1; i <= height ; i++){\n",
        "    for (int j=height-i; j>0; j--){\n",
        "      printf(\" \");\n",
        "    }\n",
        "    for (int j=1; j<=i; j++){\n",
        "      printf(\"#\");\n",
        "    }\n",
        "    printf(\"\\n\");\n",
        "  }\n",
        "}"
      ],
      "metadata": {
        "id": "jOBB-qcKcBoO",
        "colab": {
          "base_uri": "https://localhost:8080/"
        },
        "outputId": "b93221e0-7e74-42e7-d76f-78be4dfbeabd"
      },
      "execution_count": null,
      "outputs": [
        {
          "output_type": "stream",
          "name": "stdout",
          "text": [
            "Overwriting test.cpp\n"
          ]
        }
      ]
    },
    {
      "cell_type": "code",
      "source": [
        "%%shell\n",
        "g++ test.cpp -o testexe\n",
        "./testexe"
      ],
      "metadata": {
        "colab": {
          "base_uri": "https://localhost:8080/"
        },
        "id": "yryZ9zNDK9NW",
        "outputId": "2ccc4136-3a4f-444f-c9ec-027eedaced06"
      },
      "execution_count": null,
      "outputs": [
        {
          "output_type": "stream",
          "name": "stdout",
          "text": [
            "Height: 3\n",
            "  #\n",
            " ##\n",
            "###\n"
          ]
        },
        {
          "output_type": "execute_result",
          "data": {
            "text/plain": []
          },
          "metadata": {},
          "execution_count": 33
        }
      ]
    },
    {
      "cell_type": "code",
      "source": [
        "%%writefile test.cpp\n",
        "#include <stdio.h>\n",
        "int main(void)\n",
        "{\n",
        "  int height = -1;\n",
        "  while (height <= -1){\n",
        "    printf(\"Height: \");\n",
        "    scanf(\"%d\",&height);\n",
        "  }\n",
        "\n",
        "  for (int i=1; i <= height ; i++){\n",
        "    for (int j=7-i; j>0; j--){\n",
        "      printf(\" \");\n",
        "    }\n",
        "    for (int j=1; j<=i; j++){\n",
        "      printf(\"#\");\n",
        "    }\n",
        "    printf(\"  \");\n",
        "    for (int j=1; j<=i; j++){\n",
        "      printf(\"#\");\n",
        "    }\n",
        "    printf(\"\\n\");\n",
        "  }\n",
        "}"
      ],
      "metadata": {
        "colab": {
          "base_uri": "https://localhost:8080/"
        },
        "id": "BHxfZIUPQUXv",
        "outputId": "84c79e4f-b38f-4dd5-c6ae-7cd238fadd15"
      },
      "execution_count": null,
      "outputs": [
        {
          "output_type": "stream",
          "name": "stdout",
          "text": [
            "Overwriting test.cpp\n"
          ]
        }
      ]
    },
    {
      "cell_type": "code",
      "source": [
        "%%shell\n",
        "g++ test.cpp -o testexe\n",
        "./testexe"
      ],
      "metadata": {
        "colab": {
          "base_uri": "https://localhost:8080/"
        },
        "id": "sKBJwuTYQwAP",
        "outputId": "d05985e2-7042-43f9-b604-71b66fa17322"
      },
      "execution_count": null,
      "outputs": [
        {
          "output_type": "stream",
          "name": "stdout",
          "text": [
            "Height: 2\n",
            "      #  #\n",
            "     ##  ##\n"
          ]
        },
        {
          "output_type": "execute_result",
          "data": {
            "text/plain": []
          },
          "metadata": {},
          "execution_count": 31
        }
      ]
    },
    {
      "cell_type": "code",
      "source": [
        "%%writefile test.cpp\n",
        "#include <stdio.h>\n",
        "int main(void)\n",
        "{\n",
        "  int remainder = 0;\n",
        "  int odd = 0;\n",
        "  scanf(\"%d\",&remainder);\n",
        "  odd += remainder/25;\n",
        "  remainder %= 25;\n",
        "  odd += remainder/10;\n",
        "  remainder %= 10;\n",
        "  odd += remainder/5;\n",
        "  remainder %= 5;\n",
        "  odd += remainder;\n",
        "\n",
        "  printf(\"%d\",odd);\n",
        "}"
      ],
      "metadata": {
        "id": "cuZyFJkBQxxn",
        "colab": {
          "base_uri": "https://localhost:8080/"
        },
        "outputId": "9934ab28-09be-4664-c3fa-ff836658ae71"
      },
      "execution_count": 1,
      "outputs": [
        {
          "output_type": "stream",
          "name": "stdout",
          "text": [
            "Writing test.cpp\n"
          ]
        }
      ]
    },
    {
      "cell_type": "code",
      "source": [
        "%%shell\n",
        "g++ test.cpp -o testexe\n",
        "./testexe"
      ],
      "metadata": {
        "colab": {
          "base_uri": "https://localhost:8080/"
        },
        "id": "JnPpubLTc1Y4",
        "outputId": "7ba20433-6e6d-4920-8a64-eeaa3e7d3d4b"
      },
      "execution_count": 4,
      "outputs": [
        {
          "output_type": "stream",
          "name": "stdout",
          "text": [
            "113\n",
            "8"
          ]
        },
        {
          "output_type": "execute_result",
          "data": {
            "text/plain": []
          },
          "metadata": {},
          "execution_count": 4
        }
      ]
    },
    {
      "cell_type": "code",
      "source": [
        "%%writefile test.cpp\n",
        "#include <stdio.h>\n",
        "#include <stdlib.h> // strtol 함수를 위해 필요\n",
        "#include <string.h> // strlen 함수를 위해 필요\n",
        "#include <ctype.h>\n",
        "#define BUFFER_SIZE 100\n",
        "int main(void)\n",
        "{\n",
        "  char buffer[BUFFER_SIZE];\n",
        "  char *end_ptr;\n",
        "  long card_num;\n",
        "  int card_array[20];\n",
        "  int card_array_index = 0;\n",
        "\n",
        "  while (1) { // 올바른 입력을 받을 때까지 무한 반복\n",
        "    printf(\"숫자를 입력하세요: \");\n",
        "\n",
        "          // 1. fgets로 한 줄을 안전하게 입력받음\n",
        "    if (fgets(buffer, BUFFER_SIZE, stdin) == NULL) {\n",
        "              // 입력 스트림 끝(Ctrl+D) 또는 오류\n",
        "      printf(\"입력 오류가 발생했습니다.\\n\");\n",
        "      return 1;\n",
        "    }\n",
        "\n",
        "          // fgets는 개행문자(\\n)도 함께 저장하므로, 끝에 있다면 제거해주는 것이 좋음\n",
        "    buffer[strcspn(buffer, \"\\n\")] = 0;\n",
        "\n",
        "          // 2. strtol로 문자열을 long 타입 정수로 변환 시도\n",
        "    card_num = strtol(buffer, &end_ptr, 10);\n",
        "\n",
        "          // 3. 변환 결과 검증\n",
        "          //  - buffer == end_ptr : 문자열 맨 앞에 숫자가 없음 (예: \"abc\")\n",
        "          //  - *end_ptr != '\\0'  : 숫자 뒤에 다른 문자가 있음 (예: \"123xyz\")\n",
        "          //    단, 맨 앞이 비어있는 경우(엔터만 입력)도 걸러내야 함.\n",
        "          //    trim을 해서 공백만 있는 경우도 걸러낼 수 있습니다.\n",
        "\n",
        "          // 맨 앞의 공백 무시\n",
        "    char *start_ptr = buffer;\n",
        "    while (isspace((unsigned char)*start_ptr)) {\n",
        "      start_ptr++;\n",
        "    }\n",
        "\n",
        "    if (start_ptr == end_ptr) { // 변환된 숫자가 없음 (예: \"abc\" 또는 \"\" 또는 \"  \")\n",
        "      printf(\"잘못된 입력입니다. 숫자를 입력해주세요.\\n\");\n",
        "      continue;\n",
        "    }\n",
        "\n",
        "          // 숫자 뒤에 남아있는 문자가 공백 문자인지 확인\n",
        "    while (isspace((unsigned char)*end_ptr)) {\n",
        "      end_ptr++;\n",
        "    }\n",
        "\n",
        "          // 공백을 제외하고도 뒤에 문자가 남아있다면 잘못된 입력\n",
        "    if (*end_ptr != '\\0') {\n",
        "      printf(\"잘못된 입력입니다. 숫자 뒤에 다른 문자가 올 수 없습니다. (예: 123a)\\n\");\n",
        "      continue;\n",
        "    }\n",
        "\n",
        "          // 모든 검증 통과!\n",
        "    break; // 반복문 탈출\n",
        "  }\n",
        "\n",
        "    while(card_num > 0){\n",
        "      card_array[card_array_index] = card_num % 10;\n",
        "      card_num /= 10;\n",
        "      card_array_index++;\n",
        "    }\n",
        "\n",
        "\n",
        "    int card_length = card_array_index;\n",
        "    int odd_sum = 0;\n",
        "    int even_sum = 0;\n",
        "\n",
        "    for (int i=0; i<card_length; i+=2){\n",
        "      odd_sum += card_array[i];\n",
        "      even_sum += card_array[i+1]*2%10+card_array[i+1]*2/10;\n",
        "    }\n",
        "\n",
        "    if ((odd_sum+even_sum)%10 == 0){\n",
        "      if (card_array[card_length-1] == 4){\n",
        "        printf(\"VISA\");\n",
        "      }\n",
        "      else if(card_array[card_length-1] == 3){\n",
        "        if (card_array[card_length-2] == 4 or card_array[card_length-2] == 7)\n",
        "          printf(\"American Express\");\n",
        "      }\n",
        "      else if(card_array[card_length-1] == 5){\n",
        "        if (card_array[card_length-2] == 1 or card_array[card_length-2] == 2 or card_array[card_length-2] == 4 or card_array[card_length-2] == 3 or card_array[card_length-2] == 5)\n",
        "          printf(\"MasterCard\");\n",
        "      }\n",
        "      else {\n",
        "        printf(\"INVALID\");\n",
        "      }\n",
        "      return 0;\n",
        "    }\n",
        "    else {\n",
        "      printf(\"INVALID\");\n",
        "    }\n",
        "    return 0;\n",
        "}"
      ],
      "metadata": {
        "colab": {
          "base_uri": "https://localhost:8080/"
        },
        "id": "j02xcDxIdq6N",
        "outputId": "190c8882-6043-41f1-dc20-861a10031286"
      },
      "execution_count": 24,
      "outputs": [
        {
          "output_type": "stream",
          "name": "stdout",
          "text": [
            "Overwriting test.cpp\n"
          ]
        }
      ]
    },
    {
      "cell_type": "code",
      "source": [
        "%%shell\n",
        "g++ test.cpp -o testexe\n",
        "./testexe"
      ],
      "metadata": {
        "colab": {
          "base_uri": "https://localhost:8080/"
        },
        "id": "GjXfN-S9d1Ih",
        "outputId": "946d40cd-7131-4d70-892f-6ec6142d3e6c"
      },
      "execution_count": 26,
      "outputs": [
        {
          "output_type": "stream",
          "name": "stdout",
          "text": [
            "숫자를 입력하세요: 6176292929\n",
            "INVALID"
          ]
        },
        {
          "output_type": "execute_result",
          "data": {
            "text/plain": []
          },
          "metadata": {},
          "execution_count": 26
        }
      ]
    },
    {
      "cell_type": "code",
      "source": [],
      "metadata": {
        "id": "El2H0w74ogUe"
      },
      "execution_count": null,
      "outputs": []
    }
  ]
}