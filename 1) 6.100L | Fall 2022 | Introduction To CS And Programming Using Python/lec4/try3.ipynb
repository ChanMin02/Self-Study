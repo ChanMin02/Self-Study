{
  "nbformat": 4,
  "nbformat_minor": 0,
  "metadata": {
    "colab": {
      "provenance": [],
      "authorship_tag": "ABX9TyOJ0R9qIzf0tcgt5shU/7px",
      "include_colab_link": true
    },
    "kernelspec": {
      "name": "python3",
      "display_name": "Python 3"
    },
    "language_info": {
      "name": "python"
    }
  },
  "cells": [
    {
      "cell_type": "markdown",
      "metadata": {
        "id": "view-in-github",
        "colab_type": "text"
      },
      "source": [
        "<a href=\"https://colab.research.google.com/github/ChanMin02/Self-Study/blob/main/1)%206.100L%20%7C%20Fall%202022%20%7C%20Introduction%20To%20CS%20And%20Programming%20Using%20Python/lec4/try3.ipynb\" target=\"_parent\"><img src=\"https://colab.research.google.com/assets/colab-badge.svg\" alt=\"Open In Colab\"/></a>"
      ]
    },
    {
      "cell_type": "code",
      "execution_count": 22,
      "metadata": {
        "colab": {
          "base_uri": "https://localhost:8080/"
        },
        "id": "pZ2CLHoBIVYy",
        "outputId": "797643ad-ecc2-4b43-caef-fe04a60039ba"
      },
      "outputs": [
        {
          "output_type": "stream",
          "name": "stdout",
          "text": [
            "not found\n"
          ]
        }
      ],
      "source": [
        "\"\"\"\n",
        " Hardcode a number as a secret number.\n",
        " Write a program that checks through all the numbers from 1 to 10 and prints the secret value if it’s in that range.\n",
        "If it’s not found, it doesn’t print anything.\n",
        " How does the program look if I change the requirement to be: If it’s not found, prints that it didn’t find it.\n",
        "\"\"\"\n",
        "secret = 7\n",
        "# for i in range(1,11):\n",
        "#   if i == secret:\n",
        "#     print(\"yes, it's\", i)\n",
        "\n",
        "secret = 11\n",
        "found = False\n",
        "for i in range(1,11):\n",
        "  if i == secret:\n",
        "    print(\"yes, it's\", i)\n",
        "    found = True\n",
        "\n",
        "if not found:\n",
        "  print(\"not found\")"
      ]
    }
  ]
}