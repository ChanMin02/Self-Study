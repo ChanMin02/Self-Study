{
  "nbformat": 4,
  "nbformat_minor": 0,
  "metadata": {
    "colab": {
      "provenance": [],
      "authorship_tag": "ABX9TyOzryjMiKl/OlEUljUDao54",
      "include_colab_link": true
    },
    "kernelspec": {
      "name": "python3",
      "display_name": "Python 3"
    },
    "language_info": {
      "name": "python"
    }
  },
  "cells": [
    {
      "cell_type": "markdown",
      "metadata": {
        "id": "view-in-github",
        "colab_type": "text"
      },
      "source": [
        "<a href=\"https://colab.research.google.com/github/ChanMin02/Self-Study/blob/main/1)%206.100L%20%7C%20Fall%202022%20%7C%20Introduction%20To%20CS%20And%20Programming%20Using%20Python/lec4/try2.ipynb\" target=\"_parent\"><img src=\"https://colab.research.google.com/assets/colab-badge.svg\" alt=\"Open In Colab\"/></a>"
      ]
    },
    {
      "cell_type": "code",
      "execution_count": 18,
      "metadata": {
        "colab": {
          "base_uri": "https://localhost:8080/"
        },
        "id": "pZ2CLHoBIVYy",
        "outputId": "5bbe896b-71cc-473b-ccbf-b4cc89307de5"
      },
      "outputs": [
        {
          "output_type": "stream",
          "name": "stdout",
          "text": [
            "Input a string: abcdefghijkrlmnopqrstuvwxyz\n",
            "26\n"
          ]
        }
      ],
      "source": [
        "\"\"\"\n",
        "Assume you are given a string of lowercase letters in variable s.\n",
        "Count how many unique letters there are in the string. For example, if\n",
        "s = \"abca\"\n",
        "Then your code prints 3.\n",
        "\n",
        "HINT:\n",
        "Go through each character in s.\n",
        "Keep track of ones you’ve seen in a string variable.\n",
        "Add characters from s to the seen string variable if they are not already a character in that seen variable.\n",
        "\"\"\"\n",
        "s = input(\"Input a string: \")\n",
        "seen_s = \"\"\n",
        "count = 0\n",
        "\n",
        "for char in s:\n",
        "  if char in seen_s:\n",
        "    pass\n",
        "  else:\n",
        "    count += 1\n",
        "    seen_s += char\n",
        "\n",
        "print(count)\n",
        "\n",
        "#answer\n",
        "\"\"\"\n",
        "\n",
        "s = input(\"Input a string:\")\n",
        "seen = \"\"\n",
        "\n",
        "for char in s:\n",
        "  if char not in seen:\n",
        "    seen += char\n",
        "\n",
        "print(len(seen))\n",
        "\n",
        "\"\"\""
      ]
    }
  ]
}