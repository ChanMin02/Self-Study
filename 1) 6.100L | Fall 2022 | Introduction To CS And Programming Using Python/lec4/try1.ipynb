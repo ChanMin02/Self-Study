{
  "nbformat": 4,
  "nbformat_minor": 0,
  "metadata": {
    "colab": {
      "provenance": [],
      "authorship_tag": "ABX9TyPibWyFdWBMF0DLegvZ9F9u",
      "include_colab_link": true
    },
    "kernelspec": {
      "name": "python3",
      "display_name": "Python 3"
    },
    "language_info": {
      "name": "python"
    }
  },
  "cells": [
    {
      "cell_type": "markdown",
      "metadata": {
        "id": "view-in-github",
        "colab_type": "text"
      },
      "source": [
        "<a href=\"https://colab.research.google.com/github/ChanMin02/Self-Study/blob/main/1)%206.100L%20%7C%20Fall%202022%20%7C%20Introduction%20To%20CS%20And%20Programming%20Using%20Python/lec4/try1.ipynb\" target=\"_parent\"><img src=\"https://colab.research.google.com/assets/colab-badge.svg\" alt=\"Open In Colab\"/></a>"
      ]
    },
    {
      "cell_type": "code",
      "execution_count": 11,
      "metadata": {
        "colab": {
          "base_uri": "https://localhost:8080/"
        },
        "id": "pZ2CLHoBIVYy",
        "outputId": "34a3db7d-5d15-4bbf-865c-55695d6e866a"
      },
      "outputs": [
        {
          "output_type": "stream",
          "name": "stdout",
          "text": [
            "3\n",
            "5\n",
            "2\n",
            "5\n",
            "0\n"
          ]
        }
      ],
      "source": [
        "\"\"\"\n",
        "Write code that loops a for loop over some range and prints how many even numbers are in that range. Try it with:\n",
        "\"\"\"\n",
        "\n",
        "even_number = 0\n",
        "for i in range(5):\n",
        "  if i % 2 == 0:\n",
        "    even_number += 1\n",
        "print(even_number)\n",
        "\n",
        "even_number = 0\n",
        "for i in range(10):\n",
        "  if i % 2 == 0:\n",
        "    even_number += 1\n",
        "print(even_number)\n",
        "\n",
        "even_number = 0\n",
        "for i in range(2,9,3):\n",
        "  if i % 2 == 0:\n",
        "    even_number += 1\n",
        "print(even_number)\n",
        "\n",
        "even_number = 0\n",
        "for i in range(-4,6,2):\n",
        "  if i % 2 == 0:\n",
        "    even_number += 1\n",
        "print(even_number)\n",
        "\n",
        "even_number = 0\n",
        "for i in range(5,6):\n",
        "  if i % 2 == 0:\n",
        "    even_number += 1\n",
        "print(even_number)\n"
      ]
    }
  ]
}