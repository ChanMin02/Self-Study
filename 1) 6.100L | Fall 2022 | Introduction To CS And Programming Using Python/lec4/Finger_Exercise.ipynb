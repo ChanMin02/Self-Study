{
  "nbformat": 4,
  "nbformat_minor": 0,
  "metadata": {
    "colab": {
      "provenance": [],
      "authorship_tag": "ABX9TyPPw+Xnv2DGF2L4ikvzwr6Y",
      "include_colab_link": true
    },
    "kernelspec": {
      "name": "python3",
      "display_name": "Python 3"
    },
    "language_info": {
      "name": "python"
    }
  },
  "cells": [
    {
      "cell_type": "markdown",
      "metadata": {
        "id": "view-in-github",
        "colab_type": "text"
      },
      "source": [
        "<a href=\"https://colab.research.google.com/github/ChanMin02/Self-Study/blob/main/1)%206.100L%20%7C%20Fall%202022%20%7C%20Introduction%20To%20CS%20And%20Programming%20Using%20Python/lec4/Finger_Exercise.ipynb\" target=\"_parent\"><img src=\"https://colab.research.google.com/assets/colab-badge.svg\" alt=\"Open In Colab\"/></a>"
      ]
    },
    {
      "cell_type": "code",
      "execution_count": 5,
      "metadata": {
        "colab": {
          "base_uri": "https://localhost:8080/"
        },
        "id": "pZ2CLHoBIVYy",
        "outputId": "97c7a3aa-ec11-4495-fa6b-48277a6573f9"
      },
      "outputs": [
        {
          "output_type": "stream",
          "name": "stdout",
          "text": [
            "Enter a positive integer: 512\n",
            "8\n"
          ]
        }
      ],
      "source": [
        "\"\"\"\n",
        "Assume you are given a positive integer variable named N.\n",
        "Write a piece of Python code that finds the cube root of N.\n",
        "The code prints the cube root if N is a perfect cube or it prints error if N is not a perfect cube.\n",
        "Hint: use a loop that increments a counter—you decide when the counter should stop.\n",
        "\"\"\"\n",
        "\n",
        "N = int(input(\"Enter a positive integer: \"))\n",
        "while N < 0:\n",
        "  N = int(input(\"Enter a positive integer: \"))\n",
        "  if N >= 0:\n",
        "    break\n",
        "\n",
        "guess = 0\n",
        "\n",
        "while guess**3 < N:\n",
        "  guess += 1\n",
        "\n",
        "if guess**3 != N:\n",
        "  print(\"error\")\n",
        "else:\n",
        "  print(guess)"
      ]
    }
  ]
}