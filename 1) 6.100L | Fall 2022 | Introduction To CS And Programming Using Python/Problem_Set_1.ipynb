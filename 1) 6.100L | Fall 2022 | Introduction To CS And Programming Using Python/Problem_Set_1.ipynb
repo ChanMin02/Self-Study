{
  "nbformat": 4,
  "nbformat_minor": 0,
  "metadata": {
    "colab": {
      "provenance": [],
      "authorship_tag": "ABX9TyMQilrUKQJ/4Fxf032c2uZQ",
      "include_colab_link": true
    },
    "kernelspec": {
      "name": "python3",
      "display_name": "Python 3"
    },
    "language_info": {
      "name": "python"
    }
  },
  "cells": [
    {
      "cell_type": "markdown",
      "metadata": {
        "id": "view-in-github",
        "colab_type": "text"
      },
      "source": [
        "<a href=\"https://colab.research.google.com/github/ChanMin02/Self-Study/blob/main/1)%206.100L%20%7C%20Fall%202022%20%7C%20Introduction%20To%20CS%20And%20Programming%20Using%20Python/Problem_Set_1.ipynb\" target=\"_parent\"><img src=\"https://colab.research.google.com/assets/colab-badge.svg\" alt=\"Open In Colab\"/></a>"
      ]
    },
    {
      "cell_type": "code",
      "execution_count": 13,
      "metadata": {
        "colab": {
          "base_uri": "https://localhost:8080/"
        },
        "id": "pZ2CLHoBIVYy",
        "outputId": "a9b4cba8-264f-4282-bb50-dce1fe936cc3"
      },
      "outputs": [
        {
          "output_type": "stream",
          "name": "stdout",
          "text": [
            "Enter your yearly salary: 350000\n",
            "Enter the percent of your salary to save, as a decimal: .3\n",
            "Enter the cost of your dream home: 10000000\n",
            "Number of months: 189\n"
          ]
        }
      ],
      "source": [
        "\"\"\"\n",
        "Part A: Saving for a House\n",
        "\n",
        "User Inputs. Ask the user to enter the following variables and cast them as floats. They must be initialized in the following order at the beginning of\n",
        "your program, before declaring other variables.\n",
        "1. The starting yearly salary ( yearly_salary)\n",
        "2. The portion of salary to be saved ( portion_saved). This variable should be in decimal form (e.g. 0.1 for 10%).\n",
        "3. The cost of your dream home ( cost_of_dream_home)\n",
        "\n",
        "Writing the Program. You will need to determine how many months it will take given the following information:\n",
        "1. yearly_salary, as described above.\n",
        "2. portion_saved, as described above.\n",
        "3. cost_of_dream_home, as described above.\n",
        "4. portion_down_payment, the percentage of the total cost needed for a down payment. Assume portion_down_payment = 0.25 (25%).\n",
        "5. The amount that you have saved thus far is amount_saved, which starts at $0.\n",
        "6. You get an annual rate of return r. In other words, at the end of each month, you receive an additional amount_saved * (r/12) funds for your\n",
        "savings (the 12 is because r is an annual rate). Assume r = 0.05 (5%).\n",
        "7. At the end of each month, your savings increase by (1) a percentage of your monthly salary and (2) the monthly return on your investment. (Note:\n",
        "The investment amount used to calculate the monthly return is the amount you had saved at the start of each month.)\n",
        "\n",
        "Output.\n",
        "1. Your program should store the number of months required to save for the down payment using a variable called months.\n",
        "\n",
        "\"\"\"\n",
        "import math\n",
        "\n",
        "\n",
        "yearly_salary = float(input(\"Enter your yearly salary: \"))\n",
        "\n",
        "portion_saved = float(\"0\" + input(\"Enter the percent of your salary to save, as a decimal: \"))\n",
        "\n",
        "cost_of_dream_home = float(input(\"Enter the cost of your dream home: \"))\n",
        "\n",
        "portion_down_payment = 0.25\n",
        "\n",
        "down_payment = cost_of_dream_home * portion_down_payment\n",
        "\n",
        "amount_saved = 0\n",
        "\n",
        "r = 0.05\n",
        "\n",
        "def find_months(yearly_salary,portion_saved,cost_of_dream_home,portion_down_payment,down_payment,amount_saved,r):\n",
        "  amount_saved = yearly_salary/12 * portion_saved\n",
        "  months = int(math.log(down_payment/amount_saved * r/12 + 1, 1+r/12))+1\n",
        "\n",
        "  print(f\"Number of months: {months}\")\n",
        "\n",
        "\n",
        "find_months(yearly_salary,portion_saved,cost_of_dream_home,portion_down_payment,down_payment,amount_saved,r)"
      ]
    },
    {
      "cell_type": "code",
      "source": [
        "\"\"\"\n",
        "Part B: Saving with a raise\n",
        "\n",
        "In Part A, we assumed that your salary did not change over time. However, you are an MIT graduate, and clearly you are going to be worth more to your\n",
        "company over time! In this part, we will build on your solution to Part A by adding a salary raise every six months. Copy over your solution from Part A\n",
        "into the corresponding sections in ps1b.py.\n",
        "\n",
        "User Inputs. There is one additional user input in Part B. Remember to cast these inputs as floats and in the following order before declaring other\n",
        "variables.\n",
        "1. The starting yearly salary ( yearly_salary)\n",
        "2. The portion of salary to be saved ( portion_saved)\n",
        "3. The cost of your dream home ( cost_of_dream_home)\n",
        "4. The semi-annual salary raise ( semi_annual_raise), which is a decimal percentage (e.g. 0.1 for 10%)\n",
        "Writing the Program. Write a program to calculate how many months it will take for you to save up for a down payment. You can reuse much of the\n",
        "code from Part A. Like before, assume that your investments earn an annual rate of return r = 0.05 (or 5%) and that portion_down_payment =\n",
        "0.25 (or 25%). In this version, yearly_salary increases by semi_annual_raise at the end of every six months.\n",
        "\n",
        "Output.\n",
        "1. Like Part A, your program should store the number of months required to save up for your down payment using a variable called months.\n",
        "\"\"\"\n",
        "import math\n",
        "\n",
        "\n",
        "yearly_salary = float(input(\"Enter your yearly salary: \"))\n",
        "\n",
        "portion_saved = float(\"0\" + input(\"Enter the percent of your salary to save, as a decimal: \"))\n",
        "\n",
        "cost_of_dream_home = float(input(\"Enter the cost of your dream home: \"))\n",
        "\n",
        "semi_annual_raise = float(\"0\" + input(\"Enter the semi-annual raise, as a decimal: \"))\n",
        "\n",
        "\n",
        "portion_down_payment = 0.25\n",
        "\n",
        "down_payment = cost_of_dream_home * portion_down_payment\n",
        "\n",
        "amount_saved = 0\n",
        "\n",
        "r = 0.05\n",
        "\n",
        "def find_months(yearly_salary,portion_saved,semi_annual_raise,down_payment,amount_saved,r):\n",
        "  months = 1\n",
        "\n",
        "  while down_payment > amount_saved :\n",
        "    if months % 6 == 0:\n",
        "      yearly_salary *= 1+semi_annual_raise\n",
        "\n",
        "    amount_saved += yearly_salary/12 * portion_saved\n",
        "    amount_saved *= 1+r/12\n",
        "\n",
        "    months += 1\n",
        "\n",
        "  print(f\"Number of months: {months}\")\n",
        "\n",
        "\n",
        "find_months(yearly_salary,portion_saved,semi_annual_raise,down_payment,amount_saved,r)"
      ],
      "metadata": {
        "colab": {
          "base_uri": "https://localhost:8080/"
        },
        "id": "MfU4qlCCv_f0",
        "outputId": "d8e3a560-c2c4-4de3-deb0-581d55865501"
      },
      "execution_count": 22,
      "outputs": [
        {
          "output_type": "stream",
          "name": "stdout",
          "text": [
            "Enter your yearly salary: 110000\n",
            "Enter the percent of your salary to save, as a decimal: .15\n",
            "Enter the cost of your dream home: 750000\n",
            "Enter the semi-annual raise, as a decimal: .03\n",
            "Number of months: 92\n"
          ]
        }
      ]
    },
    {
      "cell_type": "code",
      "source": [
        "\"\"\"\n",
        "Part C: Choosing an Interest Rate\n",
        "\n",
        "\n",
        "In Part C, we will have a fixed initial amount and the ability to choose a value for the rate of return, r. Given an initial deposit amount, our goal is to find\n",
        "the lowest rate of return that enables us to save enough money for the down payment in 3 years.\n",
        "\n",
        "User Inputs. Cast the user input as a float in the beginning of your program.\n",
        "1. The initial amount in your savings account ( initial_deposit)\n",
        "\n",
        "Writing the Program. Write a program to calculate the minimum rate of return r needed in order to reach your goal of a sufficient down payment in 3\n",
        "years, given an initial_deposit. To simplify things, assume:\n",
        "1. The cost of the house that you are saving for is $800,000.\n",
        "2. The down payment is 25% of the cost of the house.\n",
        "Use the following formula for compound interest in order to calculate the predicted savings amount given a rate of return r, an initial_deposit, and\n",
        "months:\n",
        "You will use bisection search to determine the lowest rate of return r that is needed to achieve a down payment on a $800,000 house in 36 months.\n",
        "Since hitting this exact amount is a bit of a challenge, we only require that your savings be within $100 of the required down payment. For example, if\n",
        "the down payment is $1000, the total amount saved should be between $900 and $1100 (exclusive).\n",
        "Your bisection search should update the value of r until it represents the lowest rate of return that allows you to save enough for the down payment in 3\n",
        "years. r should be a float (e.g. 0.0704 for 7.04%). Assume that r lies somewhere between 0% and 100% (inclusive).\n",
        "\n",
        "Outputs.\n",
        "1. The variable steps should reflect the number of steps your bisection search took to get the best r value (i.e. steps should equal the number of\n",
        "times that you bisect the testing interval).\n",
        "2. The variable r should be the lowest rate of return that allows you to save enough for the down payment in 3 years.\n",
        "\"\"\"\n",
        "\n",
        "initial_deposit = float(input(\"Enter the initial deposit: \"))\n",
        "\n",
        "cost_of_dream_home = 800000\n",
        "\n",
        "portion_down_payment = 0.25\n",
        "\n",
        "down_payment = cost_of_dream_home * portion_down_payment\n",
        "\n",
        "months = 36\n",
        "\n",
        "steps = 0\n",
        "\n",
        "if initial_deposit - down_payment >= -100 :\n",
        "  steps = 0\n",
        "  r = 0.0\n",
        "\n",
        "elif (down_payment - initial_deposit*(1+1/12)**36) > 100 :\n",
        "  steps = 0\n",
        "  r = None\n",
        "\n",
        "else :\n",
        "  amount_saved = 0\n",
        "\n",
        "  low = 0.0\n",
        "\n",
        "  high = 1.0\n",
        "\n",
        "  near_r = 12*(((down_payment - 100) / initial_deposit)**(1/36)-1)\n",
        "\n",
        "  while abs(near_r - r) >= 0.0001 :\n",
        "    r = (low + high)/2\n",
        "\n",
        "    if (near_r > r):\n",
        "      low = r\n",
        "\n",
        "    elif r > near_r :\n",
        "      high = r\n",
        "\n",
        "    steps += 1\n",
        "\n",
        "print(f\"Best savings rate: {r}\")\n",
        "print(f\"Steps in bisection search: {steps}\")\n",
        "\n"
      ],
      "metadata": {
        "colab": {
          "base_uri": "https://localhost:8080/"
        },
        "id": "D6jFsmvparjZ",
        "outputId": "e5eaf5fc-dafb-480d-8b6f-9db674db596f"
      },
      "execution_count": 38,
      "outputs": [
        {
          "output_type": "stream",
          "name": "stdout",
          "text": [
            "Enter the initial deposit: 150000\n",
            "Best savings rate: 0.09619140625\n",
            "Steps in bisection search: 11\n"
          ]
        }
      ]
    }
  ]
}