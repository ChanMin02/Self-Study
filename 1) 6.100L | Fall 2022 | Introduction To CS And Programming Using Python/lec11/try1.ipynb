{
  "nbformat": 4,
  "nbformat_minor": 0,
  "metadata": {
    "colab": {
      "provenance": [],
      "authorship_tag": "ABX9TyN92FJA6jq2N39WlTZHJg0I",
      "include_colab_link": true
    },
    "kernelspec": {
      "name": "python3",
      "display_name": "Python 3"
    },
    "language_info": {
      "name": "python"
    }
  },
  "cells": [
    {
      "cell_type": "markdown",
      "metadata": {
        "id": "view-in-github",
        "colab_type": "text"
      },
      "source": [
        "<a href=\"https://colab.research.google.com/github/ChanMin02/Self-Study/blob/main/1)%206.100L%20%7C%20Fall%202022%20%7C%20Introduction%20To%20CS%20And%20Programming%20Using%20Python/lec11/try1.ipynb\" target=\"_parent\"><img src=\"https://colab.research.google.com/assets/colab-badge.svg\" alt=\"Open In Colab\"/></a>"
      ]
    },
    {
      "cell_type": "code",
      "execution_count": 6,
      "metadata": {
        "colab": {
          "base_uri": "https://localhost:8080/"
        },
        "id": "pZ2CLHoBIVYy",
        "outputId": "08d8e639-ceda-4996-ac3e-a24768b0f78b"
      },
      "outputs": [
        {
          "output_type": "stream",
          "name": "stdout",
          "text": [
            "[1]\n"
          ]
        }
      ],
      "source": [
        "\"\"\"\n",
        " Write a function that meets the specification.\n",
        " Hint. Make a copy to save the elements.\n",
        "The use L.clear() to empty out the list and repopulate it with the ones you’re keeping.\n",
        "def remove_all(L, e):\n",
        "\n",
        "L is a list\n",
        "Mutates L to remove all elements in L that are equal to e\n",
        "Returns None\n",
        "\n",
        "\"\"\"\n",
        "\n",
        "def remove_all(L, e):\n",
        "  L_copy = L[:]\n",
        "  for element in L_copy:\n",
        "    if element == e:\n",
        "      L.remove(element)\n",
        "\"\"\"\n",
        "L is a list\n",
        "Mutates L to remove all elements in L that are equal to e\n",
        "Returns None\n",
        "\"\"\"\n",
        "\n",
        "L = [1,2,2,2]\n",
        "remove_all(L, 2)\n",
        "print(L) # prints [1]"
      ]
    }
  ]
}