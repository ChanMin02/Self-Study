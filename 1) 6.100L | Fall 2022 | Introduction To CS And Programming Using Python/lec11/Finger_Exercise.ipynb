{
  "nbformat": 4,
  "nbformat_minor": 0,
  "metadata": {
    "colab": {
      "provenance": [],
      "authorship_tag": "ABX9TyMsRW+5xG2zY7mPSeEjwuIS",
      "include_colab_link": true
    },
    "kernelspec": {
      "name": "python3",
      "display_name": "Python 3"
    },
    "language_info": {
      "name": "python"
    }
  },
  "cells": [
    {
      "cell_type": "markdown",
      "metadata": {
        "id": "view-in-github",
        "colab_type": "text"
      },
      "source": [
        "<a href=\"https://colab.research.google.com/github/ChanMin02/Self-Study/blob/main/1)%206.100L%20%7C%20Fall%202022%20%7C%20Introduction%20To%20CS%20And%20Programming%20Using%20Python/lec11/Finger_Exercise.ipynb\" target=\"_parent\"><img src=\"https://colab.research.google.com/assets/colab-badge.svg\" alt=\"Open In Colab\"/></a>"
      ]
    },
    {
      "cell_type": "code",
      "execution_count": 15,
      "metadata": {
        "colab": {
          "base_uri": "https://localhost:8080/"
        },
        "id": "pZ2CLHoBIVYy",
        "outputId": "4f6f44b3-2bf4-406b-dfea-606bb583f08a"
      },
      "outputs": [
        {
          "output_type": "stream",
          "name": "stdout",
          "text": [
            "[3, 6]\n"
          ]
        }
      ],
      "source": [
        "\"\"\"\n",
        "Implement the function that meets the specifications below:\n",
        "\n",
        "def remove_and_sort(Lin, k):\n",
        "\n",
        "\n",
        "\"\"\"\n",
        "\n",
        "def remove_and_sort(Lin, k):\n",
        "  if len(Lin) < k:\n",
        "    Lin = []\n",
        "    return\n",
        "\n",
        "  for i in range(k):\n",
        "    del(Lin[i])\n",
        "  Lin.sort()\n",
        "\n",
        "\n",
        "# Examples:\n",
        "L = [1,6,3]\n",
        "k = 1\n",
        "remove_and_sort(L, k)\n",
        "print(L)   # prints the list [3, 6]"
      ]
    }
  ]
}