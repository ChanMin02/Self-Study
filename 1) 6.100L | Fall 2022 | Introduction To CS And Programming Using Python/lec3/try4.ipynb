{
  "nbformat": 4,
  "nbformat_minor": 0,
  "metadata": {
    "colab": {
      "provenance": [],
      "authorship_tag": "ABX9TyNDjBHH96kz8gGZAayjRjn6",
      "include_colab_link": true
    },
    "kernelspec": {
      "name": "python3",
      "display_name": "Python 3"
    },
    "language_info": {
      "name": "python"
    }
  },
  "cells": [
    {
      "cell_type": "markdown",
      "metadata": {
        "id": "view-in-github",
        "colab_type": "text"
      },
      "source": [
        "<a href=\"https://colab.research.google.com/github/ChanMin02/Self-Study/blob/main/1)%206.100L%20%7C%20Fall%202022%20%7C%20Introduction%20To%20CS%20And%20Programming%20Using%20Python/lec3/try4.ipynb\" target=\"_parent\"><img src=\"https://colab.research.google.com/assets/colab-badge.svg\" alt=\"Open In Colab\"/></a>"
      ]
    },
    {
      "cell_type": "code",
      "execution_count": 7,
      "metadata": {
        "colab": {
          "base_uri": "https://localhost:8080/"
        },
        "id": "pZ2CLHoBIVYy",
        "outputId": "bc43b3f0-2256-4e8c-9309-873ed3962df5"
      },
      "outputs": [
        {
          "output_type": "stream",
          "name": "stdout",
          "text": [
            "First for loop\n",
            "1\n",
            "2\n",
            "3\n",
            "Second for loop\n",
            "2\n",
            "6\n",
            "Third for loop\n",
            "$$$$\n",
            "$$$\n",
            "$$\n",
            "$\n"
          ]
        }
      ],
      "source": [
        "\"\"\"\n",
        " What do these print?\n",
        "\"\"\"\n",
        "\n",
        "print(\"First for loop\")\n",
        "for i in range(1,4,1):\n",
        "  print(i)\n",
        "\n",
        "print(\"Second for loop\")\n",
        "for j in range(1,4,2):\n",
        "  print(j*2)\n",
        "\n",
        "print(\"Third for loop\")\n",
        "for me in range(4,0,-1):\n",
        "  print(\"$\"*me)"
      ]
    }
  ]
}