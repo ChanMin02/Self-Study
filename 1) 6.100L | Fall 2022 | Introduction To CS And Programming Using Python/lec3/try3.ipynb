{
  "nbformat": 4,
  "nbformat_minor": 0,
  "metadata": {
    "colab": {
      "provenance": [],
      "authorship_tag": "ABX9TyNBJk2EAfGY9a1E0U5Pi2X9",
      "include_colab_link": true
    },
    "kernelspec": {
      "name": "python3",
      "display_name": "Python 3"
    },
    "language_info": {
      "name": "python"
    }
  },
  "cells": [
    {
      "cell_type": "markdown",
      "metadata": {
        "id": "view-in-github",
        "colab_type": "text"
      },
      "source": [
        "<a href=\"https://colab.research.google.com/github/ChanMin02/Self-Study/blob/main/1)%206.100L%20%7C%20Fall%202022%20%7C%20Introduction%20To%20CS%20And%20Programming%20Using%20Python/lec3/try3.ipynb\" target=\"_parent\"><img src=\"https://colab.research.google.com/assets/colab-badge.svg\" alt=\"Open In Colab\"/></a>"
      ]
    },
    {
      "cell_type": "code",
      "execution_count": 6,
      "metadata": {
        "colab": {
          "base_uri": "https://localhost:8080/"
        },
        "id": "pZ2CLHoBIVYy",
        "outputId": "b93bce17-8813-41c6-96ad-9d9bdb0d5006"
      },
      "outputs": [
        {
          "output_type": "stream",
          "name": "stdout",
          "text": [
            "Go left or right? right\n",
            "Go left or right? right\n",
            "Go left or right? right\n",
            "Sad Face\n",
            "Go left or right? right\n",
            "Sad Face\n",
            "Go left or right? left\n",
            "You got out!\n"
          ]
        }
      ],
      "source": [
        "\"\"\"\n",
        " Expand this code to show a sad face when the user entered the while loop more than 2 times.\n",
        " Hint: use a variable as a counter\n",
        "\"\"\"\n",
        "\n",
        "where = input(\"Go left or right? \")\n",
        "num = 0\n",
        "while where == \"right\":\n",
        "  num += 1\n",
        "  if num > 2:\n",
        "    print(\"Sad Face\")\n",
        "  where = input(\"Go left or right? \")\n",
        "\n",
        "\n",
        "print(\"You got out!\")"
      ]
    }
  ]
}