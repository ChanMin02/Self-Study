{
  "nbformat": 4,
  "nbformat_minor": 0,
  "metadata": {
    "colab": {
      "provenance": [],
      "authorship_tag": "ABX9TyOSzMbH4YaIQaSoc7xoJUhH",
      "include_colab_link": true
    },
    "kernelspec": {
      "name": "python3",
      "display_name": "Python 3"
    },
    "language_info": {
      "name": "python"
    }
  },
  "cells": [
    {
      "cell_type": "markdown",
      "metadata": {
        "id": "view-in-github",
        "colab_type": "text"
      },
      "source": [
        "<a href=\"https://colab.research.google.com/github/ChanMin02/Self-Study/blob/main/1)%206.100L%20%7C%20Fall%202022%20%7C%20Introduction%20To%20CS%20And%20Programming%20Using%20Python/lec3/try5.ipynb\" target=\"_parent\"><img src=\"https://colab.research.google.com/assets/colab-badge.svg\" alt=\"Open In Colab\"/></a>"
      ]
    },
    {
      "cell_type": "code",
      "execution_count": 9,
      "metadata": {
        "colab": {
          "base_uri": "https://localhost:8080/"
        },
        "id": "pZ2CLHoBIVYy",
        "outputId": "36b5b061-7dd7-482e-c00e-b855f3aa8a21"
      },
      "outputs": [
        {
          "output_type": "stream",
          "name": "stdout",
          "text": [
            "What is the start?: 3\n",
            "What is the end?: 5\n",
            "12\n"
          ]
        }
      ],
      "source": [
        "\"\"\"\n",
        " Fix this code to use variables start and end in the range, to get the total sum between and including those values.\n",
        " For example, if start=3 and end=5 then the sum should be 12.\n",
        "\"\"\"\n",
        "\n",
        "mysum = 0\n",
        "start = int(input(\"What is the start?: \"))\n",
        "end = int(input(\"What is the end?: \"))+1\n",
        "for i in range(start, end):\n",
        "  mysum += i\n",
        "print(mysum)"
      ]
    }
  ]
}