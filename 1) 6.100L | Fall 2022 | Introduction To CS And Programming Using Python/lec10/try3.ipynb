{
  "nbformat": 4,
  "nbformat_minor": 0,
  "metadata": {
    "colab": {
      "provenance": [],
      "authorship_tag": "ABX9TyPfZ7nfq5wYGcgQlPNupUwE",
      "include_colab_link": true
    },
    "kernelspec": {
      "name": "python3",
      "display_name": "Python 3"
    },
    "language_info": {
      "name": "python"
    }
  },
  "cells": [
    {
      "cell_type": "markdown",
      "metadata": {
        "id": "view-in-github",
        "colab_type": "text"
      },
      "source": [
        "<a href=\"https://colab.research.google.com/github/ChanMin02/Self-Study/blob/main/1)%206.100L%20%7C%20Fall%202022%20%7C%20Introduction%20To%20CS%20And%20Programming%20Using%20Python/lec10/try3.ipynb\" target=\"_parent\"><img src=\"https://colab.research.google.com/assets/colab-badge.svg\" alt=\"Open In Colab\"/></a>"
      ]
    },
    {
      "cell_type": "code",
      "execution_count": 19,
      "metadata": {
        "colab": {
          "base_uri": "https://localhost:8080/"
        },
        "id": "pZ2CLHoBIVYy",
        "outputId": "df32a2cf-d2dc-4ed9-ffa8-34ecdb13bb4c"
      },
      "outputs": [
        {
          "output_type": "stream",
          "name": "stdout",
          "text": [
            "Enter number of elements : 5\n",
            "3\n",
            "2\n",
            "1\n",
            "2\n",
            "2\n",
            "[3, 1]\n"
          ]
        }
      ],
      "source": [
        "\"\"\"\n",
        " Write a function that meets the specification.\n",
        "def remove_elem(L, e):\n",
        "\n",
        "L is a list\n",
        "Returns a new list with elements in the same order as L\n",
        "but without any elements equal to e.\n",
        "\n",
        "\"\"\"\n",
        "\n",
        "def remove_elem(L, e):\n",
        "  for i in range(len(L)):\n",
        "    if e in L:\n",
        "      L.remove(e)\n",
        "  return L\n",
        "\n",
        "L = []\n",
        "n = int(input(\"Enter number of elements : \"))\n",
        "for i in range(0, n):\n",
        "    element = int(input())\n",
        "    L.append(element)\n",
        "\n",
        "print(remove_elem(L, 2))"
      ]
    }
  ]
}