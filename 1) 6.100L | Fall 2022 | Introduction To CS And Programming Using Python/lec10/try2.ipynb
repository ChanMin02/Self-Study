{
  "nbformat": 4,
  "nbformat_minor": 0,
  "metadata": {
    "colab": {
      "provenance": [],
      "authorship_tag": "ABX9TyPM+YlV9HnQnNaC4UUMy7Bm",
      "include_colab_link": true
    },
    "kernelspec": {
      "name": "python3",
      "display_name": "Python 3"
    },
    "language_info": {
      "name": "python"
    }
  },
  "cells": [
    {
      "cell_type": "markdown",
      "metadata": {
        "id": "view-in-github",
        "colab_type": "text"
      },
      "source": [
        "<a href=\"https://colab.research.google.com/github/ChanMin02/Self-Study/blob/main/1)%206.100L%20%7C%20Fall%202022%20%7C%20Introduction%20To%20CS%20And%20Programming%20Using%20Python/lec10/try2.ipynb\" target=\"_parent\"><img src=\"https://colab.research.google.com/assets/colab-badge.svg\" alt=\"Open In Colab\"/></a>"
      ]
    },
    {
      "cell_type": "code",
      "execution_count": 15,
      "metadata": {
        "colab": {
          "base_uri": "https://localhost:8080/"
        },
        "id": "pZ2CLHoBIVYy",
        "outputId": "497e6439-d1bd-46d2-db01-3865be7669df"
      },
      "outputs": [
        {
          "output_type": "stream",
          "name": "stdout",
          "text": [
            "Enter a positive integer: 10\n",
            "[0, 1, 2, 3, 4, 5, 6, 7, 8, 9, 10]\n"
          ]
        }
      ],
      "source": [
        "\"\"\"\n",
        " Write a function that meets these specs:\n",
        "def make_ordered_list(n):\n",
        " n is a positive int\n",
        "Returns a list containing all ints in order\n",
        "from 0 to n (inclusive)\n",
        "\n",
        "\"\"\"\n",
        "\n",
        "\n",
        "def make_ordered_list(n):\n",
        "  L = []\n",
        "  for i in range(n+1):\n",
        "    L.append(i)\n",
        "  return L\n",
        "\n",
        "n = int(input(\"Enter a positive integer: \"))\n",
        "print(make_ordered_list(n))"
      ]
    }
  ]
}