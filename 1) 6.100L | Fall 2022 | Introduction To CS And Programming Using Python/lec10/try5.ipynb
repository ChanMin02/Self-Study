{
  "nbformat": 4,
  "nbformat_minor": 0,
  "metadata": {
    "colab": {
      "provenance": [],
      "authorship_tag": "ABX9TyOchnYMBHWLpYiqjZ+D5omj",
      "include_colab_link": true
    },
    "kernelspec": {
      "name": "python3",
      "display_name": "Python 3"
    },
    "language_info": {
      "name": "python"
    }
  },
  "cells": [
    {
      "cell_type": "markdown",
      "metadata": {
        "id": "view-in-github",
        "colab_type": "text"
      },
      "source": [
        "<a href=\"https://colab.research.google.com/github/ChanMin02/Self-Study/blob/main/1)%206.100L%20%7C%20Fall%202022%20%7C%20Introduction%20To%20CS%20And%20Programming%20Using%20Python/lec10/try5.ipynb\" target=\"_parent\"><img src=\"https://colab.research.google.com/assets/colab-badge.svg\" alt=\"Open In Colab\"/></a>"
      ]
    },
    {
      "cell_type": "code",
      "execution_count": 2,
      "metadata": {
        "colab": {
          "base_uri": "https://localhost:8080/"
        },
        "id": "pZ2CLHoBIVYy",
        "outputId": "77f57967-1510-43ed-abc5-7af0bd9344c3"
      },
      "outputs": [
        {
          "output_type": "stream",
          "name": "stdout",
          "text": [
            "['at', 'look', 'photograph', 'this']\n"
          ]
        }
      ],
      "source": [
        "\"\"\"\n",
        " Write a function that meets these specs:\n",
        "sen is a string representing a sentence\n",
        "Returns a list containing all the words in sen but\n",
        "sorted in alphabetical order.\n",
        "\n",
        "\"\"\"\n",
        "\n",
        "\n",
        "def sort_words(sen):\n",
        "  word = sen.split()\n",
        "  word.sort()\n",
        "  return word\n",
        "\n",
        "print(sort_words(\"look at this photograph\"))"
      ]
    }
  ]
}