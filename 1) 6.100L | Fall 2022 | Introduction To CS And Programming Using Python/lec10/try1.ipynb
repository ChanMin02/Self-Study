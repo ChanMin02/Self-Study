{
  "nbformat": 4,
  "nbformat_minor": 0,
  "metadata": {
    "colab": {
      "provenance": [],
      "authorship_tag": "ABX9TyO/d8T8swN4x4T6uLWZdrNn",
      "include_colab_link": true
    },
    "kernelspec": {
      "name": "python3",
      "display_name": "Python 3"
    },
    "language_info": {
      "name": "python"
    }
  },
  "cells": [
    {
      "cell_type": "markdown",
      "metadata": {
        "id": "view-in-github",
        "colab_type": "text"
      },
      "source": [
        "<a href=\"https://colab.research.google.com/github/ChanMin02/Self-Study/blob/main/1)%206.100L%20%7C%20Fall%202022%20%7C%20Introduction%20To%20CS%20And%20Programming%20Using%20Python/lec10/try1.ipynb\" target=\"_parent\"><img src=\"https://colab.research.google.com/assets/colab-badge.svg\" alt=\"Open In Colab\"/></a>"
      ]
    },
    {
      "cell_type": "code",
      "execution_count": 14,
      "metadata": {
        "colab": {
          "base_uri": "https://localhost:8080/"
        },
        "id": "pZ2CLHoBIVYy",
        "outputId": "57863562-316f-4c69-949b-9d08c67dab72"
      },
      "outputs": [
        {
          "output_type": "stream",
          "name": "stdout",
          "text": [
            "['re', ['do', ['re', 'mi']]]\n",
            "['mi']\n",
            "['do', ['re', 'mi']]\n",
            "['re', 'mi']\n",
            "None\n"
          ]
        }
      ],
      "source": [
        "\"\"\"\n",
        " What is the value of L1, L2, L3 and L at the end?\n",
        "L1 = ['re']\n",
        "L2 = ['mi']\n",
        "L3 = ['do']\n",
        "L4 = L1 + L2\n",
        "L3.append(L4)\n",
        "L = L1.append(L3)\n",
        "\n",
        "\"\"\"\n",
        "\n",
        "\n",
        "L1 = ['re']\n",
        "L2 = ['mi']\n",
        "L3 = ['do']\n",
        "L4 = L1 + L2\n",
        "L3.append(L4)\n",
        "L = L1.append(L3)\n",
        "\n",
        "print(L1)\n",
        "print(L2)\n",
        "print(L3)\n",
        "print(L4)\n",
        "print(L)"
      ]
    }
  ]
}