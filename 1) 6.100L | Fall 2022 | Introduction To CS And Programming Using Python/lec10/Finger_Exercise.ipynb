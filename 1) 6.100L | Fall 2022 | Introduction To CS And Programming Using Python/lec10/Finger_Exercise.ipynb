{
  "nbformat": 4,
  "nbformat_minor": 0,
  "metadata": {
    "colab": {
      "provenance": [],
      "authorship_tag": "ABX9TyMDrMtiCqWyH9DTYcAYS3lu",
      "include_colab_link": true
    },
    "kernelspec": {
      "name": "python3",
      "display_name": "Python 3"
    },
    "language_info": {
      "name": "python"
    }
  },
  "cells": [
    {
      "cell_type": "markdown",
      "metadata": {
        "id": "view-in-github",
        "colab_type": "text"
      },
      "source": [
        "<a href=\"https://colab.research.google.com/github/ChanMin02/Self-Study/blob/main/1)%206.100L%20%7C%20Fall%202022%20%7C%20Introduction%20To%20CS%20And%20Programming%20Using%20Python/lec10/Finger_Exercise.ipynb\" target=\"_parent\"><img src=\"https://colab.research.google.com/assets/colab-badge.svg\" alt=\"Open In Colab\"/></a>"
      ]
    },
    {
      "cell_type": "code",
      "execution_count": 5,
      "metadata": {
        "id": "pZ2CLHoBIVYy"
      },
      "outputs": [],
      "source": [
        "\"\"\"\n",
        "Implement the function that meets the specifications below:\n",
        "\n",
        "def all_true(n, Lf):\n",
        "     n is an int\n",
        "        Lf is a list of functions that take in an int and return a Boolean\n",
        "    Returns True if each and every function in Lf returns True when called\n",
        "    with n as a parameter. Otherwise returns False.\n",
        "\n",
        "\n",
        "\"\"\"\n",
        "\n",
        "\n",
        "def all_true(n, Lf):\n",
        "  flag = True\n",
        "  for f in Lf:\n",
        "    if not f(n):\n",
        "      flag = False\n",
        "      break\n",
        "  return flag\n",
        "\n"
      ]
    }
  ]
}