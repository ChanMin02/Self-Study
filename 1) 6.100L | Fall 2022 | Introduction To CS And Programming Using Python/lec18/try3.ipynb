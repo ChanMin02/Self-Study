{
  "nbformat": 4,
  "nbformat_minor": 0,
  "metadata": {
    "colab": {
      "provenance": [],
      "authorship_tag": "ABX9TyMCKJ9jq3b4abHPMu6V8him",
      "include_colab_link": true
    },
    "kernelspec": {
      "name": "python3",
      "display_name": "Python 3"
    },
    "language_info": {
      "name": "python"
    }
  },
  "cells": [
    {
      "cell_type": "markdown",
      "metadata": {
        "id": "view-in-github",
        "colab_type": "text"
      },
      "source": [
        "<a href=\"https://colab.research.google.com/github/ChanMin02/Self-Study/blob/main/1)%206.100L%20%7C%20Fall%202022%20%7C%20Introduction%20To%20CS%20And%20Programming%20Using%20Python/lec18/try3.ipynb\" target=\"_parent\"><img src=\"https://colab.research.google.com/assets/colab-badge.svg\" alt=\"Open In Colab\"/></a>"
      ]
    },
    {
      "cell_type": "code",
      "execution_count": 14,
      "metadata": {
        "colab": {
          "base_uri": "https://localhost:8080/"
        },
        "id": "pZ2CLHoBIVYy",
        "outputId": "b9cdab04-5c5e-4f53-c043-c5da66de3e2f"
      },
      "outputs": [
        {
          "output_type": "stream",
          "name": "stdout",
          "text": [
            "1.3333333333333333\n",
            "4 3\n"
          ]
        }
      ],
      "source": [
        "class SimpleFraction(object):\n",
        "  \"\"\" A number represented as a fraction \"\"\"\n",
        "  def __init__(self, num, denom):\n",
        "    self.num = num\n",
        "    self.denom = denom\n",
        "  def get_inverse(self):\n",
        "    return self.denom/self.num\n",
        "\n",
        "  def invert(self):\n",
        "    tmp = self.denom\n",
        "    self.denom = self.num\n",
        "    self.num = tmp\n",
        "\n",
        "\n",
        "# Example:\n",
        "f1 = SimpleFraction(3,4)\n",
        "print(f1.get_inverse()) # prints 1.33333333 (note this one returns value)\n",
        "f1.invert() # acts on data attributes internally, no return\n",
        "print(f1.num, f1.denom) # prints 4 3"
      ]
    }
  ]
}