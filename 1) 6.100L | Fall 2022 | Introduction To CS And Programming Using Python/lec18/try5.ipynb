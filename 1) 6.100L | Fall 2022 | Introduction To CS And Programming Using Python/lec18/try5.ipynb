{
  "nbformat": 4,
  "nbformat_minor": 0,
  "metadata": {
    "colab": {
      "provenance": [],
      "authorship_tag": "ABX9TyPtsLz5dpKqvp6UImIHugkx",
      "include_colab_link": true
    },
    "kernelspec": {
      "name": "python3",
      "display_name": "Python 3"
    },
    "language_info": {
      "name": "python"
    }
  },
  "cells": [
    {
      "cell_type": "markdown",
      "metadata": {
        "id": "view-in-github",
        "colab_type": "text"
      },
      "source": [
        "<a href=\"https://colab.research.google.com/github/ChanMin02/Self-Study/blob/main/1)%206.100L%20%7C%20Fall%202022%20%7C%20Introduction%20To%20CS%20And%20Programming%20Using%20Python/lec18/try5.ipynb\" target=\"_parent\"><img src=\"https://colab.research.google.com/assets/colab-badge.svg\" alt=\"Open In Colab\"/></a>"
      ]
    },
    {
      "cell_type": "code",
      "execution_count": 9,
      "metadata": {
        "colab": {
          "base_uri": "https://localhost:8080/"
        },
        "id": "pZ2CLHoBIVYy",
        "outputId": "76f408a2-b573-4ffa-87d6-6191067e891f"
      },
      "outputs": [
        {
          "output_type": "stream",
          "name": "stdout",
          "text": [
            "5/1\n"
          ]
        }
      ],
      "source": [
        "class Fraction(object):\n",
        "  def __init__(self, num, denom):\n",
        "    if denom == 0:\n",
        "      ValueError(\" \")\n",
        "    self.num = num\n",
        "    self.denom = denom\n",
        "  def reduce(self):\n",
        "    def gcd(n, d):\n",
        "      while d != 0:\n",
        "        (d, n) = (n%d, d)\n",
        "      return n\n",
        "\n",
        "    if self.denom == 0:\n",
        "      return None\n",
        "    elif self.denom == 1:\n",
        "      return str(self.num) + \"/\" + str(self.denom)\n",
        "    else:\n",
        "      greatest_common_divisor = gcd(self.num, self.denom)\n",
        "      top = int(self.num/greatest_common_divisor)\n",
        "      bottom = int(self.denom/greatest_common_divisor)\n",
        "      return Fraction(top, bottom)\n",
        "\n",
        "# Example:\n",
        "f1 = Fraction(5,1)\n",
        "print(f1.reduce()) # prints 5/1 not 5"
      ]
    },
    {
      "cell_type": "code",
      "source": [
        "class Fraction(object):\n",
        "    def __init__(self, num, denom):\n",
        "        \"\"\" num and denom are integers \"\"\"\n",
        "        self.num = num\n",
        "        self.denom = denom\n",
        "    def reduce(self):\n",
        "        def gcd(n, d):\n",
        "            while d != 0:\n",
        "                (d, n) = (n%d, d)\n",
        "            return n\n",
        "        if self.denom == 0:\n",
        "            return None\n",
        "        elif self.denom == 1:\n",
        "            # modify this\n",
        "            return Fraction(self.num,1)\n",
        "        else:\n",
        "            greatest_common_divisor = gcd(self.num, self.denom)\n",
        "            top = int(self.num/greatest_common_divisor)\n",
        "            bottom = int(self.denom/greatest_common_divisor)\n",
        "            return Fraction(top, bottom)\n",
        "    def __str__(self):\n",
        "        \"\"\" Returns a string representation of self \"\"\"\n",
        "        return str(self.num) + \"/\" + str(self.denom)\n",
        "\n",
        "f1 = Fraction(5,1)\n",
        "f1r = f1.reduce()\n",
        "print(f1r)          # prints 5/1 not 5\n",
        "# print(type(f1r))    # prints <class '__main__.Fraction'>"
      ],
      "metadata": {
        "colab": {
          "base_uri": "https://localhost:8080/"
        },
        "id": "qaaxE0mTD7dt",
        "outputId": "8d4d9235-7410-4219-de5c-0b461f331ce2"
      },
      "execution_count": 12,
      "outputs": [
        {
          "output_type": "stream",
          "name": "stdout",
          "text": [
            "5/1\n"
          ]
        }
      ]
    }
  ]
}