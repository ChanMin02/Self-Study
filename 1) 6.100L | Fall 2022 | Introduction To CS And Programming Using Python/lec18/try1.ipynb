{
  "nbformat": 4,
  "nbformat_minor": 0,
  "metadata": {
    "colab": {
      "provenance": [],
      "authorship_tag": "ABX9TyMGK2FFCqG7R1ohmZ/u3egD",
      "include_colab_link": true
    },
    "kernelspec": {
      "name": "python3",
      "display_name": "Python 3"
    },
    "language_info": {
      "name": "python"
    }
  },
  "cells": [
    {
      "cell_type": "markdown",
      "metadata": {
        "id": "view-in-github",
        "colab_type": "text"
      },
      "source": [
        "<a href=\"https://colab.research.google.com/github/ChanMin02/Self-Study/blob/main/1)%206.100L%20%7C%20Fall%202022%20%7C%20Introduction%20To%20CS%20And%20Programming%20Using%20Python/lec18/try1.ipynb\" target=\"_parent\"><img src=\"https://colab.research.google.com/assets/colab-badge.svg\" alt=\"Open In Colab\"/></a>"
      ]
    },
    {
      "cell_type": "code",
      "execution_count": 12,
      "metadata": {
        "id": "pZ2CLHoBIVYy"
      },
      "outputs": [],
      "source": [
        "class Coordinate(object):\n",
        "\n",
        "  def __init__(self, x, y):\n",
        "\n",
        "    self.x = x\n",
        "    self.y = y\n",
        "\n",
        "  def distance(self, other):\n",
        "\n",
        "    x_diff_sq = (self.x-other.x)**2\n",
        "    y_diff_sq = (self.y-other.y)**2\n",
        "    return (x_diff_sq + y_diff_sq)**0.5\n",
        "\n",
        "  def to_origin(self):\n",
        "\n",
        "    self.x = 0\n",
        "    self.y = 0\n",
        "\n",
        "\n",
        "class Circle():\n",
        "  def __init__(self, center, radius):\n",
        "    self.center = center\n",
        "    self.radius = radius\n",
        "\n",
        "    if type(center) != Coordinate or type(radius) != int:\n",
        "      raise ValueError('!!')\n",
        "\n",
        "center = Coordinate(2,2)\n",
        "my_circle = Circle(center,2)"
      ]
    }
  ]
}