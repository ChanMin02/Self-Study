{
  "nbformat": 4,
  "nbformat_minor": 0,
  "metadata": {
    "colab": {
      "provenance": [],
      "authorship_tag": "ABX9TyPL1xsE9h3JNwJjTFry8HW1",
      "include_colab_link": true
    },
    "kernelspec": {
      "name": "python3",
      "display_name": "Python 3"
    },
    "language_info": {
      "name": "python"
    }
  },
  "cells": [
    {
      "cell_type": "markdown",
      "metadata": {
        "id": "view-in-github",
        "colab_type": "text"
      },
      "source": [
        "<a href=\"https://colab.research.google.com/github/ChanMin02/Self-Study/blob/main/1)%206.100L%20%7C%20Fall%202022%20%7C%20Introduction%20To%20CS%20And%20Programming%20Using%20Python/lec18/try4.ipynb\" target=\"_parent\"><img src=\"https://colab.research.google.com/assets/colab-badge.svg\" alt=\"Open In Colab\"/></a>"
      ]
    },
    {
      "cell_type": "code",
      "execution_count": 1,
      "metadata": {
        "colab": {
          "base_uri": "https://localhost:8080/"
        },
        "id": "pZ2CLHoBIVYy",
        "outputId": "9dbb1932-5e0e-4803-daeb-22d7e0370c49"
      },
      "outputs": [
        {
          "output_type": "stream",
          "name": "stdout",
          "text": [
            "1/4\n",
            "3\n"
          ]
        }
      ],
      "source": [
        "class Fraction(object):\n",
        "  def __init__(self, num, denom):\n",
        "    self.num = num\n",
        "    self.denom = denom\n",
        "  def __str__(self):\n",
        "    if self.denom == 1:\n",
        "      return str(self.num)\n",
        "    return str(self.num) + \"/\" + str(self.denom)\n",
        "\n",
        "# Example:\n",
        "a = Fraction(1,4)\n",
        "b = Fraction(3,1)\n",
        "print(a) # prints 1/4\n",
        "print(b) # prints 3"
      ]
    }
  ]
}