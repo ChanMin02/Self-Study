{
  "nbformat": 4,
  "nbformat_minor": 0,
  "metadata": {
    "colab": {
      "provenance": [],
      "authorship_tag": "ABX9TyOb7hF6VZD3r9dugA9oBVsj",
      "include_colab_link": true
    },
    "kernelspec": {
      "name": "python3",
      "display_name": "Python 3"
    },
    "language_info": {
      "name": "python"
    }
  },
  "cells": [
    {
      "cell_type": "markdown",
      "metadata": {
        "id": "view-in-github",
        "colab_type": "text"
      },
      "source": [
        "<a href=\"https://colab.research.google.com/github/ChanMin02/Self-Study/blob/main/1)%206.100L%20%7C%20Fall%202022%20%7C%20Introduction%20To%20CS%20And%20Programming%20Using%20Python/lec18/Finger_Exercise.ipynb\" target=\"_parent\"><img src=\"https://colab.research.google.com/assets/colab-badge.svg\" alt=\"Open In Colab\"/></a>"
      ]
    },
    {
      "cell_type": "code",
      "execution_count": 9,
      "metadata": {
        "colab": {
          "base_uri": "https://localhost:8080/"
        },
        "id": "pZ2CLHoBIVYy",
        "outputId": "76f408a2-b573-4ffa-87d6-6191067e891f"
      },
      "outputs": [
        {
          "output_type": "stream",
          "name": "stdout",
          "text": [
            "5/1\n"
          ]
        }
      ],
      "source": [
        "class Circle():\n",
        "    def __init__(self, radius):\n",
        "        \"\"\" Initializes self with radius \"\"\"\n",
        "        # your code here\n",
        "        self.radius = radius\n",
        "\n",
        "    def get_radius(self):\n",
        "        \"\"\" Returns the radius of self \"\"\"\n",
        "        # your code here\n",
        "        return self.radius\n",
        "\n",
        "    def __add__(self, c):\n",
        "        \"\"\" c is a Circle object\n",
        "        Returns a new Circle object whose radius is\n",
        "        the sum of self and c's radius \"\"\"\n",
        "        # your code here\n",
        "        return Circle(self.radius+c.radius)\n",
        "\n",
        "    def __str__(self):\n",
        "        \"\"\" A Circle's string representation is the radius \"\"\"\n",
        "        # your code here\n",
        "        return str(self.radius)"
      ]
    }
  ]
}