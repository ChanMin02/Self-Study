{
  "nbformat": 4,
  "nbformat_minor": 0,
  "metadata": {
    "colab": {
      "provenance": [],
      "authorship_tag": "ABX9TyO+wtGHekqK2M18N227bBIS",
      "include_colab_link": true
    },
    "kernelspec": {
      "name": "python3",
      "display_name": "Python 3"
    },
    "language_info": {
      "name": "python"
    }
  },
  "cells": [
    {
      "cell_type": "markdown",
      "metadata": {
        "id": "view-in-github",
        "colab_type": "text"
      },
      "source": [
        "<a href=\"https://colab.research.google.com/github/ChanMin02/Self-Study/blob/main/1)%206.100L%20%7C%20Fall%202022%20%7C%20Introduction%20To%20CS%20And%20Programming%20Using%20Python/lec13/try1.ipynb\" target=\"_parent\"><img src=\"https://colab.research.google.com/assets/colab-badge.svg\" alt=\"Open In Colab\"/></a>"
      ]
    },
    {
      "cell_type": "code",
      "execution_count": 22,
      "metadata": {
        "colab": {
          "base_uri": "https://localhost:8080/"
        },
        "id": "pZ2CLHoBIVYy",
        "outputId": "b68b8323-6509-41ea-e5be-79d8f269b82a"
      },
      "outputs": [
        {
          "output_type": "stream",
          "name": "stdout",
          "text": [
            "[4.0, 2.5, 2.0]\n",
            "<class 'ValueError'>\n"
          ]
        }
      ],
      "source": [
        "def pairwise_div(Lnum, Ldenom):\n",
        "  list = []\n",
        "  for i in range(len(Lnum)):\n",
        "    if Ldenom[i] == 0:\n",
        "      return ValueError\n",
        "    list.append(Lnum[i]/Ldenom[i])\n",
        "  return list\n",
        "\n",
        "# For example:\n",
        "L1 = [4,5,6]\n",
        "L2 = [1,2,3]\n",
        "print(pairwise_div(L1, L2))\n",
        "L1 = [4,5,6]\n",
        "L2 = [1,0,3]\n",
        "print(pairwise_div(L1, L2)) # raises a ValueError"
      ]
    }
  ]
}