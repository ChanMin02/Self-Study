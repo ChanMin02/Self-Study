{
  "nbformat": 4,
  "nbformat_minor": 0,
  "metadata": {
    "colab": {
      "provenance": [],
      "authorship_tag": "ABX9TyPUVEShSstMCwUddMiiE6xS",
      "include_colab_link": true
    },
    "kernelspec": {
      "name": "python3",
      "display_name": "Python 3"
    },
    "language_info": {
      "name": "python"
    }
  },
  "cells": [
    {
      "cell_type": "markdown",
      "metadata": {
        "id": "view-in-github",
        "colab_type": "text"
      },
      "source": [
        "<a href=\"https://colab.research.google.com/github/ChanMin02/Self-Study/blob/main/1)%206.100L%20%7C%20Fall%202022%20%7C%20Introduction%20To%20CS%20And%20Programming%20Using%20Python/lec16/try2.ipynb\" target=\"_parent\"><img src=\"https://colab.research.google.com/assets/colab-badge.svg\" alt=\"Open In Colab\"/></a>"
      ]
    },
    {
      "cell_type": "code",
      "execution_count": 5,
      "metadata": {
        "colab": {
          "base_uri": "https://localhost:8080/"
        },
        "id": "pZ2CLHoBIVYy",
        "outputId": "2a02c0fb-7cb6-4656-f056-c55e1ff60789"
      },
      "outputs": [
        {
          "output_type": "stream",
          "name": "stdout",
          "text": [
            "False\n",
            "True\n"
          ]
        }
      ],
      "source": [
        "def flatten(L):\n",
        "  if len(L) == 1:\n",
        "    return L[0]\n",
        "  else:\n",
        "    return L[0] + flatten(L[1:])\n",
        "\n",
        "def in_list_of_lists(L, e):\n",
        "  if e in flatten(L):\n",
        "    return True\n",
        "  else :\n",
        "    return False\n",
        "\n",
        "test = [[1,2], [3,4], [5,6,7]]\n",
        "print(in_list_of_lists(test, 0)) # prints False\n",
        "test = [[1,2], [3,4], [5,6,7]]\n",
        "print(in_list_of_lists(test, 3)) # prints True"
      ]
    }
  ]
}