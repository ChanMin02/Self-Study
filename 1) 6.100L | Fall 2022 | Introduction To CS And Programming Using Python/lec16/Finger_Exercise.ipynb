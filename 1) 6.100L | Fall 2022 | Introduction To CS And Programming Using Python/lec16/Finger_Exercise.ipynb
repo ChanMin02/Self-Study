{
  "nbformat": 4,
  "nbformat_minor": 0,
  "metadata": {
    "colab": {
      "provenance": [],
      "authorship_tag": "ABX9TyNq3GBWnd0nhEjYu0LUqZLD",
      "include_colab_link": true
    },
    "kernelspec": {
      "name": "python3",
      "display_name": "Python 3"
    },
    "language_info": {
      "name": "python"
    }
  },
  "cells": [
    {
      "cell_type": "markdown",
      "metadata": {
        "id": "view-in-github",
        "colab_type": "text"
      },
      "source": [
        "<a href=\"https://colab.research.google.com/github/ChanMin02/Self-Study/blob/main/1)%206.100L%20%7C%20Fall%202022%20%7C%20Introduction%20To%20CS%20And%20Programming%20Using%20Python/lec16/Finger_Exercise.ipynb\" target=\"_parent\"><img src=\"https://colab.research.google.com/assets/colab-badge.svg\" alt=\"Open In Colab\"/></a>"
      ]
    },
    {
      "cell_type": "code",
      "execution_count": 10,
      "metadata": {
        "colab": {
          "base_uri": "https://localhost:8080/"
        },
        "id": "pZ2CLHoBIVYy",
        "outputId": "2af2016a-c10d-415a-c72b-45c14b4d4010"
      },
      "outputs": [
        {
          "output_type": "stream",
          "name": "stdout",
          "text": [
            "[1, 4, 6, 2, 3, 2, 4, 5]\n"
          ]
        }
      ],
      "source": [
        "def flatten(L):\n",
        "  tmpL = []\n",
        "  for item in L:\n",
        "    if type(item) == list:\n",
        "      tmpL += flatten(item)\n",
        "    else:\n",
        "      tmpL += [item]\n",
        "\n",
        "  return tmpL\n",
        "\n",
        "L = [[1,4,[6],2],[[[3]],2],4,5]\n",
        "print(flatten(L)) # prints the list [1,4,6,2,3,2,4,5]"
      ]
    }
  ]
}