{
  "nbformat": 4,
  "nbformat_minor": 0,
  "metadata": {
    "colab": {
      "provenance": [],
      "authorship_tag": "ABX9TyMX8OKXqVZPD3O8xNeoLmXw",
      "include_colab_link": true
    },
    "kernelspec": {
      "name": "python3",
      "display_name": "Python 3"
    },
    "language_info": {
      "name": "python"
    }
  },
  "cells": [
    {
      "cell_type": "markdown",
      "metadata": {
        "id": "view-in-github",
        "colab_type": "text"
      },
      "source": [
        "<a href=\"https://colab.research.google.com/github/ChanMin02/Self-Study/blob/main/1)%206.100L%20%7C%20Fall%202022%20%7C%20Introduction%20To%20CS%20And%20Programming%20Using%20Python/lec14/try3.ipynb\" target=\"_parent\"><img src=\"https://colab.research.google.com/assets/colab-badge.svg\" alt=\"Open In Colab\"/></a>"
      ]
    },
    {
      "cell_type": "code",
      "execution_count": 10,
      "metadata": {
        "colab": {
          "base_uri": "https://localhost:8080/"
        },
        "id": "pZ2CLHoBIVYy",
        "outputId": "e443e89f-4d8a-4200-935f-27227490b58d"
      },
      "outputs": [
        {
          "output_type": "stream",
          "name": "stdout",
          "text": [
            "0\n",
            "2\n"
          ]
        }
      ],
      "source": [
        "def count_matches(d):\n",
        "  key = list(d.keys())\n",
        "  value = list(d.values())\n",
        "  count = 0\n",
        "\n",
        "  for i in range(len(key)):\n",
        "    if key[i] == value[i]:\n",
        "      count += 1\n",
        "\n",
        "  return count\n",
        "\n",
        "# for example\n",
        "d = {1:2, 3:4, 5:6}\n",
        "print(count_matches(d)) # prints 0\n",
        "d = {1:2, 'a':'a', 5:5}\n",
        "print(count_matches(d)) # prints 2"
      ]
    }
  ]
}