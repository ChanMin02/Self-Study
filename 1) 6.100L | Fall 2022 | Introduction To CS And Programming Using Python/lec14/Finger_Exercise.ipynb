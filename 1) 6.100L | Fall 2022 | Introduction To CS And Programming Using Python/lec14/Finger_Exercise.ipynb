{
  "nbformat": 4,
  "nbformat_minor": 0,
  "metadata": {
    "colab": {
      "provenance": [],
      "authorship_tag": "ABX9TyMVuVlDA2C6kgnTfflZuvnC",
      "include_colab_link": true
    },
    "kernelspec": {
      "name": "python3",
      "display_name": "Python 3"
    },
    "language_info": {
      "name": "python"
    }
  },
  "cells": [
    {
      "cell_type": "markdown",
      "metadata": {
        "id": "view-in-github",
        "colab_type": "text"
      },
      "source": [
        "<a href=\"https://colab.research.google.com/github/ChanMin02/Self-Study/blob/main/1)%206.100L%20%7C%20Fall%202022%20%7C%20Introduction%20To%20CS%20And%20Programming%20Using%20Python/lec14/Finger_Exercise.ipynb\" target=\"_parent\"><img src=\"https://colab.research.google.com/assets/colab-badge.svg\" alt=\"Open In Colab\"/></a>"
      ]
    },
    {
      "cell_type": "code",
      "execution_count": 24,
      "metadata": {
        "colab": {
          "base_uri": "https://localhost:8080/"
        },
        "id": "pZ2CLHoBIVYy",
        "outputId": "8449a6dc-620a-46ea-d6d5-bb280731f2fc"
      },
      "outputs": [
        {
          "output_type": "stream",
          "name": "stdout",
          "text": [
            "[1, 5]\n"
          ]
        }
      ],
      "source": [
        "def keys_with_value(aDict, target):\n",
        "  return sorted([key for key in aDict.keys() if aDict[key] == target])\n",
        "\n",
        "aDict = {1:2, 2:4, 5:2}\n",
        "target = 2\n",
        "print(keys_with_value(aDict, target)) # prints the list [1,5]"
      ]
    },
    {
      "cell_type": "code",
      "source": [
        "def all_positive(d):\n",
        "  return sorted([key for key in d if sum(d[key]) > 0])\n",
        "\n",
        "# Examples:\n",
        "d = {5:[2,-4], 2:[1,2,3], 1:[2]}\n",
        "print(all_positive(d))   # prints the list [1, 2]"
      ],
      "metadata": {
        "colab": {
          "base_uri": "https://localhost:8080/"
        },
        "id": "dfOlStr_iIJM",
        "outputId": "3023f103-f15a-4f84-ce06-7ec8ee209ad5"
      },
      "execution_count": 25,
      "outputs": [
        {
          "output_type": "stream",
          "name": "stdout",
          "text": [
            "[1, 2]\n"
          ]
        }
      ]
    }
  ]
}