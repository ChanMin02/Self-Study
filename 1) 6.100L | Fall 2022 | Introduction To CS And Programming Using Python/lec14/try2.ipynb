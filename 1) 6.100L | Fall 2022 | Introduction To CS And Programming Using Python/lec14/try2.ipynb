{
  "nbformat": 4,
  "nbformat_minor": 0,
  "metadata": {
    "colab": {
      "provenance": [],
      "authorship_tag": "ABX9TyPfEnDW5zE6PJ17CrFQQEZp",
      "include_colab_link": true
    },
    "kernelspec": {
      "name": "python3",
      "display_name": "Python 3"
    },
    "language_info": {
      "name": "python"
    }
  },
  "cells": [
    {
      "cell_type": "markdown",
      "metadata": {
        "id": "view-in-github",
        "colab_type": "text"
      },
      "source": [
        "<a href=\"https://colab.research.google.com/github/ChanMin02/Self-Study/blob/main/1)%206.100L%20%7C%20Fall%202022%20%7C%20Introduction%20To%20CS%20And%20Programming%20Using%20Python/lec14/try2.ipynb\" target=\"_parent\"><img src=\"https://colab.research.google.com/assets/colab-badge.svg\" alt=\"Open In Colab\"/></a>"
      ]
    },
    {
      "cell_type": "code",
      "execution_count": 8,
      "metadata": {
        "colab": {
          "base_uri": "https://localhost:8080/"
        },
        "id": "pZ2CLHoBIVYy",
        "outputId": "d27705fb-03f8-439e-eda5-78293d0786ac"
      },
      "outputs": [
        {
          "output_type": "stream",
          "name": "stdout",
          "text": [
            "True\n",
            "False\n"
          ]
        }
      ],
      "source": [
        "def find_in_L(Ld, k):\n",
        "  #L = [dictionry.keys() for dictionry in Ld] #return dict_keys type\n",
        "  return any(k in dictionry for dictionry in Ld)\n",
        "\n",
        "# for example\n",
        "d1 = {1:2, 3:4, 5:6}\n",
        "d2 = {2:4, 4:6}\n",
        "d3 = {1:1, 3:9, 4:16, 5:25}\n",
        "print(find_in_L([d1, d2, d3], 2)) # returns True\n",
        "print(find_in_L([d1, d2, d3], 25)) # returns False"
      ]
    },
    {
      "cell_type": "code",
      "source": [
        "#answer\n",
        "def find_in_L(Ld, k):\n",
        "  for d in Ld:\n",
        "    if k in d:\n",
        "      return True\n",
        "  return False\n",
        "\n",
        "# for example\n",
        "d1 = {1:2, 3:4, 5:6}\n",
        "d2 = {2:4, 4:6}\n",
        "d3 = {1:1, 3:9, 4:16, 5:25}\n",
        "print(find_in_L([d1, d2, d3], 2)) # returns True\n",
        "print(find_in_L([d1, d2, d3], 25)) # returns False"
      ],
      "metadata": {
        "colab": {
          "base_uri": "https://localhost:8080/"
        },
        "id": "LhfzfPGicVCW",
        "outputId": "73e98c20-6c88-440c-c65c-d73a498bea4c"
      },
      "execution_count": 9,
      "outputs": [
        {
          "output_type": "stream",
          "name": "stdout",
          "text": [
            "True\n",
            "False\n"
          ]
        }
      ]
    }
  ]
}