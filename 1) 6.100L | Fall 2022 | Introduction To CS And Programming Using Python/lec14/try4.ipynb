{
  "nbformat": 4,
  "nbformat_minor": 0,
  "metadata": {
    "colab": {
      "provenance": [],
      "authorship_tag": "ABX9TyOB3kdKZRrvQ5xjZ3tTz+xP",
      "include_colab_link": true
    },
    "kernelspec": {
      "name": "python3",
      "display_name": "Python 3"
    },
    "language_info": {
      "name": "python"
    }
  },
  "cells": [
    {
      "cell_type": "markdown",
      "metadata": {
        "id": "view-in-github",
        "colab_type": "text"
      },
      "source": [
        "<a href=\"https://colab.research.google.com/github/ChanMin02/Self-Study/blob/main/1)%206.100L%20%7C%20Fall%202022%20%7C%20Introduction%20To%20CS%20And%20Programming%20Using%20Python/lec14/try4.ipynb\" target=\"_parent\"><img src=\"https://colab.research.google.com/assets/colab-badge.svg\" alt=\"Open In Colab\"/></a>"
      ]
    },
    {
      "cell_type": "code",
      "execution_count": 15,
      "metadata": {
        "colab": {
          "base_uri": "https://localhost:8080/"
        },
        "id": "pZ2CLHoBIVYy",
        "outputId": "71d4c0d6-19aa-4cf4-dd9e-a40c2a65deda"
      },
      "outputs": [
        {
          "output_type": "stream",
          "name": "stdout",
          "text": [
            "7.0\n"
          ]
        }
      ],
      "source": [
        "my_d ={'Ana':{'mq':[10], 'ps':[10,10]},\n",
        "'Bob':{'ps':[7,8], 'mq':[8]},\n",
        "'Eric':{'mq':[3], 'ps':[0]} }\n",
        "\n",
        "def get_average(data, what):\n",
        "  all_data = []\n",
        "  for stud in data.keys():\n",
        "    all_data = all_data + data[stud][what]\n",
        "  return sum(all_data)/len(all_data)\n",
        "\n",
        "print(get_average(my_d,\"mq\"))"
      ]
    }
  ]
}