{
  "nbformat": 4,
  "nbformat_minor": 0,
  "metadata": {
    "colab": {
      "provenance": [],
      "authorship_tag": "ABX9TyMHatS5pFHdlm2I4IRHy5D4",
      "include_colab_link": true
    },
    "kernelspec": {
      "name": "python3",
      "display_name": "Python 3"
    },
    "language_info": {
      "name": "python"
    }
  },
  "cells": [
    {
      "cell_type": "markdown",
      "metadata": {
        "id": "view-in-github",
        "colab_type": "text"
      },
      "source": [
        "<a href=\"https://colab.research.google.com/github/ChanMin02/Self-Study/blob/main/1)%206.100L%20%7C%20Fall%202022%20%7C%20Introduction%20To%20CS%20And%20Programming%20Using%20Python/lec14/try1.ipynb\" target=\"_parent\"><img src=\"https://colab.research.google.com/assets/colab-badge.svg\" alt=\"Open In Colab\"/></a>"
      ]
    },
    {
      "cell_type": "code",
      "execution_count": 34,
      "metadata": {
        "colab": {
          "base_uri": "https://localhost:8080/"
        },
        "id": "pZ2CLHoBIVYy",
        "outputId": "bf81a46a-7a18-4f52-df50-bc86a16d6f74"
      },
      "outputs": [
        {
          "output_type": "stream",
          "name": "stdout",
          "text": [
            "['C', 'A']\n"
          ]
        }
      ],
      "source": [
        "def find_grades(grades, students):\n",
        "  return [grades[student] for student in students]\n",
        "\n",
        "d = {'Ana':'B', 'Matt':'C', 'John':'B', 'Katy':'A'}\n",
        "print(find_grades(d, ['Matt', 'Katy'])) # returns ['C', 'A']"
      ]
    }
  ]
}