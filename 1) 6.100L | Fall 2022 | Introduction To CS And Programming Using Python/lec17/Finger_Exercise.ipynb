{
  "nbformat": 4,
  "nbformat_minor": 0,
  "metadata": {
    "colab": {
      "provenance": [],
      "authorship_tag": "ABX9TyMuvPEtTrFZWlJBWpPP4w/z",
      "include_colab_link": true
    },
    "kernelspec": {
      "name": "python3",
      "display_name": "Python 3"
    },
    "language_info": {
      "name": "python"
    }
  },
  "cells": [
    {
      "cell_type": "markdown",
      "metadata": {
        "id": "view-in-github",
        "colab_type": "text"
      },
      "source": [
        "<a href=\"https://colab.research.google.com/github/ChanMin02/Self-Study/blob/main/1)%206.100L%20%7C%20Fall%202022%20%7C%20Introduction%20To%20CS%20And%20Programming%20Using%20Python/lec17/Finger_Exercise.ipynb\" target=\"_parent\"><img src=\"https://colab.research.google.com/assets/colab-badge.svg\" alt=\"Open In Colab\"/></a>"
      ]
    },
    {
      "cell_type": "code",
      "execution_count": 6,
      "metadata": {
        "colab": {
          "base_uri": "https://localhost:8080/"
        },
        "id": "pZ2CLHoBIVYy",
        "outputId": "0b2be763-f4c9-40cc-e99d-778c1b40b1bf"
      },
      "outputs": [
        {
          "output_type": "stream",
          "name": "stdout",
          "text": [
            "3\n",
            "28.26\n",
            "<__main__.Circle object at 0x78ab6e14f050>\n"
          ]
        }
      ],
      "source": [
        "class Circle():\n",
        "    def __init__(self, radius):\n",
        "        \"\"\" Initializes self with radius \"\"\"\n",
        "        # your code here\n",
        "        self.radius = radius\n",
        "\n",
        "\n",
        "    def get_radius(self):\n",
        "        \"\"\" Returns the radius of self \"\"\"\n",
        "        # your code here\n",
        "        return self.radius\n",
        "\n",
        "    def set_radius(self, radius):\n",
        "        \"\"\" radius is a number\n",
        "        Changes the radius of self to radius \"\"\"\n",
        "        # your code here\n",
        "        self.radius = radius\n",
        "\n",
        "    def get_area(self):\n",
        "        \"\"\" Returns the area of self using pi = 3.14 \"\"\"\n",
        "        # your code here\n",
        "        return 3.14*self.radius**2\n",
        "\n",
        "    def equal(self, c):\n",
        "        \"\"\" c is a Circle object\n",
        "        Returns True if self and c have the same radius value \"\"\"\n",
        "        # your code here\n",
        "        return self.radius == c.radius\n",
        "\n",
        "    def bigger(self, c):\n",
        "        \"\"\" c is a Circle object\n",
        "        Returns self or c, the Circle object with the bigger radius \"\"\"\n",
        "        # your code here\n",
        "        if self.radius > c.radius :\n",
        "          return self\n",
        "        elif self.radius < c.radius:\n",
        "          return c\n",
        "\n",
        "c = Circle(3)\n",
        "c2 = Circle(6)\n",
        "print(c.radius)\n",
        "print(c.get_area())\n",
        "print(c.bigger(c2))"
      ]
    }
  ]
}