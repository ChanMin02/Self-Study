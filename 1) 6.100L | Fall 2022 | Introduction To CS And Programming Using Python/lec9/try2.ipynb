{
  "nbformat": 4,
  "nbformat_minor": 0,
  "metadata": {
    "colab": {
      "provenance": [],
      "authorship_tag": "ABX9TyN2XZ4XAx5dt3TQ0slllE3A",
      "include_colab_link": true
    },
    "kernelspec": {
      "name": "python3",
      "display_name": "Python 3"
    },
    "language_info": {
      "name": "python"
    }
  },
  "cells": [
    {
      "cell_type": "markdown",
      "metadata": {
        "id": "view-in-github",
        "colab_type": "text"
      },
      "source": [
        "<a href=\"https://colab.research.google.com/github/ChanMin02/Self-Study/blob/main/1)%206.100L%20%7C%20Fall%202022%20%7C%20Introduction%20To%20CS%20And%20Programming%20Using%20Python/lec9/try2.ipynb\" target=\"_parent\"><img src=\"https://colab.research.google.com/assets/colab-badge.svg\" alt=\"Open In Colab\"/></a>"
      ]
    },
    {
      "cell_type": "code",
      "execution_count": 3,
      "metadata": {
        "colab": {
          "base_uri": "https://localhost:8080/"
        },
        "id": "pZ2CLHoBIVYy",
        "outputId": "8054c327-b557-492a-e762-90167aaa6082"
      },
      "outputs": [
        {
          "output_type": "stream",
          "name": "stdout",
          "text": [
            "Enter a string: chanmin hwang\n",
            "(3, 9)\n"
          ]
        }
      ],
      "source": [
        "\"\"\"\n",
        " Write a function that meets these specs:\n",
        " Hint: remember how to check if a character is in a string?\n",
        "\n",
        "def char_counts(s):\n",
        "\n",
        "s is a string of lowercase chars\n",
        "Return a tuple where the first element is the\n",
        "number of vowels in s and the second element\n",
        "is the number of consonants in s\n",
        "\"\"\"\n",
        "\n",
        "def char_counts(s):\n",
        "  vowels = \"aeiou\"\n",
        "  count_vowels = 0\n",
        "  s = s.replace(\" \",\"\")\n",
        "  for char in s:\n",
        "    if char in vowels:\n",
        "      count_vowels += 1\n",
        "\n",
        "  return (count_vowels, len(s) - count_vowels)\n",
        "\n",
        "s = input(\"Enter a string: \")\n",
        "print(char_counts(s))\n"
      ]
    }
  ]
}