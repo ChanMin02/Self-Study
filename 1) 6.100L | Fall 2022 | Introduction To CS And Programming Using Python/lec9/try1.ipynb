{
  "nbformat": 4,
  "nbformat_minor": 0,
  "metadata": {
    "colab": {
      "provenance": [],
      "authorship_tag": "ABX9TyMkgOdLpuwgQORIqqJ5LKx6",
      "include_colab_link": true
    },
    "kernelspec": {
      "name": "python3",
      "display_name": "Python 3"
    },
    "language_info": {
      "name": "python"
    }
  },
  "cells": [
    {
      "cell_type": "markdown",
      "metadata": {
        "id": "view-in-github",
        "colab_type": "text"
      },
      "source": [
        "<a href=\"https://colab.research.google.com/github/ChanMin02/Self-Study/blob/main/1)%206.100L%20%7C%20Fall%202022%20%7C%20Introduction%20To%20CS%20And%20Programming%20Using%20Python/lec9/try1.ipynb\" target=\"_parent\"><img src=\"https://colab.research.google.com/assets/colab-badge.svg\" alt=\"Open In Colab\"/></a>"
      ]
    },
    {
      "cell_type": "code",
      "execution_count": 1,
      "metadata": {
        "colab": {
          "base_uri": "https://localhost:8080/"
        },
        "id": "pZ2CLHoBIVYy",
        "outputId": "e1f39279-a00b-4d26-83aa-3f32b2ff8349"
      },
      "outputs": [
        {
          "output_type": "stream",
          "name": "stdout",
          "text": [
            "81\n"
          ]
        }
      ],
      "source": [
        "\"\"\"\n",
        " What does this print?\n",
        "\n",
        "def do_twice(n, fn):\n",
        "  return fn(fn(n))\n",
        "\n",
        "print(do_twice(3, lambda x: x**2))\n",
        "\"\"\"\n",
        "\n",
        "def do_twice(n, fn):\n",
        "  return fn(fn(n))\n",
        "\n",
        "print(do_twice(3, lambda x: x**2))"
      ]
    }
  ]
}