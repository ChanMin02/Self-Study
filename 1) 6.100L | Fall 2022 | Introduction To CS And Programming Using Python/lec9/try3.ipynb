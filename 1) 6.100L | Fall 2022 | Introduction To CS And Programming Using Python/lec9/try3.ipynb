{
  "nbformat": 4,
  "nbformat_minor": 0,
  "metadata": {
    "colab": {
      "provenance": [],
      "authorship_tag": "ABX9TyPeoBUcPSSju/1eFL7GmcJJ",
      "include_colab_link": true
    },
    "kernelspec": {
      "name": "python3",
      "display_name": "Python 3"
    },
    "language_info": {
      "name": "python"
    }
  },
  "cells": [
    {
      "cell_type": "markdown",
      "metadata": {
        "id": "view-in-github",
        "colab_type": "text"
      },
      "source": [
        "<a href=\"https://colab.research.google.com/github/ChanMin02/Self-Study/blob/main/1)%206.100L%20%7C%20Fall%202022%20%7C%20Introduction%20To%20CS%20And%20Programming%20Using%20Python/lec9/try3.ipynb\" target=\"_parent\"><img src=\"https://colab.research.google.com/assets/colab-badge.svg\" alt=\"Open In Colab\"/></a>"
      ]
    },
    {
      "cell_type": "code",
      "execution_count": 7,
      "metadata": {
        "colab": {
          "base_uri": "https://localhost:8080/"
        },
        "id": "pZ2CLHoBIVYy",
        "outputId": "c8142093-b86d-442b-f12d-953a0c974f2f"
      },
      "outputs": [
        {
          "output_type": "stream",
          "name": "stdout",
          "text": [
            "Enter the number of elements in the list: 10\n",
            "Enter the element: 1\n",
            "Enter the element: 2\n",
            "Enter the element: 3\n",
            "Enter the element: 4\n",
            "Enter the element: 5\n",
            "Enter the element: 6\n",
            "Enter the element: 7\n",
            "Enter the element: 8\n",
            "Enter the element: 9\n",
            "Enter the element: 10\n",
            "(55, 3628800)\n"
          ]
        }
      ],
      "source": [
        "\"\"\"\n",
        " Write a function that meets these specs:\n",
        "def sum_and_prod(L):\n",
        "L is a list of numbers\n",
        "Return a tuple where the first value is the\n",
        "sum of all elements in L and the second value\n",
        "is the product of all elements in L\n",
        "\"\"\"\n",
        "\n",
        "def sum_and_prod(L):\n",
        "  sum = 0\n",
        "  product = 1\n",
        "  for i in L:\n",
        "    sum += i\n",
        "    product *= i\n",
        "  return (sum,product)\n",
        "\n",
        "n = int(input(\"Enter the number of elements in the list: \"))\n",
        "L = []\n",
        "for i in range(n):\n",
        "  L.append(int(input(\"Enter the element: \")))\n",
        "print(sum_and_prod(L))\n"
      ]
    }
  ]
}