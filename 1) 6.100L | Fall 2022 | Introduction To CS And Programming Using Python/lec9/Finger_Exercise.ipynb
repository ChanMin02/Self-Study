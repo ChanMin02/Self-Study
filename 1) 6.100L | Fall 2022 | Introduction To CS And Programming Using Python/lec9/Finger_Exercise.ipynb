{
  "nbformat": 4,
  "nbformat_minor": 0,
  "metadata": {
    "colab": {
      "provenance": [],
      "authorship_tag": "ABX9TyNE9yfKGIluMA1rBd8q7WOX",
      "include_colab_link": true
    },
    "kernelspec": {
      "name": "python3",
      "display_name": "Python 3"
    },
    "language_info": {
      "name": "python"
    }
  },
  "cells": [
    {
      "cell_type": "markdown",
      "metadata": {
        "id": "view-in-github",
        "colab_type": "text"
      },
      "source": [
        "<a href=\"https://colab.research.google.com/github/ChanMin02/Self-Study/blob/main/1)%206.100L%20%7C%20Fall%202022%20%7C%20Introduction%20To%20CS%20And%20Programming%20Using%20Python/lec9/Finger_Exercise.ipynb\" target=\"_parent\"><img src=\"https://colab.research.google.com/assets/colab-badge.svg\" alt=\"Open In Colab\"/></a>"
      ]
    },
    {
      "cell_type": "code",
      "execution_count": 9,
      "metadata": {
        "colab": {
          "base_uri": "https://localhost:8080/"
        },
        "id": "pZ2CLHoBIVYy",
        "outputId": "ac2e79bd-3e76-4503-9fe7-aa21a6de4826"
      },
      "outputs": [
        {
          "output_type": "stream",
          "name": "stdout",
          "text": [
            "(3, 32)\n"
          ]
        }
      ],
      "source": [
        "\"\"\"\n",
        "Implement the function that meets the specifications below:\n",
        "\n",
        "def dot_product(tA, tB):\n",
        "\n",
        "    tA: a tuple of numbers\n",
        "    tB: a tuple of numbers of the same length as tA\n",
        "    Assumes tA and tB are the same length.\n",
        "    Returns a tuple where the:\n",
        "    * first element is the length of one of the tuples\n",
        "    * second element is the sum of the pairwise products of tA and tB\n",
        "\n",
        "\"\"\"\n",
        "\n",
        "def dot_product(tA, tB):\n",
        "    sum = 0\n",
        "    i = len(tA)\n",
        "    for x in range(i):\n",
        "        sum += tA[x] * tB[x]\n",
        "    return (len(tA), sum)\n",
        "\n",
        "\n",
        "# Examples:\n",
        "tA = (1, 2, 3)\n",
        "tB = (4, 5, 6)\n",
        "print(dot_product(tA, tB)) # prints (3,32)"
      ]
    }
  ]
}