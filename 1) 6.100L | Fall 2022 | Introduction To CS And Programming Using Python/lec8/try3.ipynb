{
  "nbformat": 4,
  "nbformat_minor": 0,
  "metadata": {
    "colab": {
      "provenance": [],
      "authorship_tag": "ABX9TyMG5mf7MOB/NqHvRJfbMQX+",
      "include_colab_link": true
    },
    "kernelspec": {
      "name": "python3",
      "display_name": "Python 3"
    },
    "language_info": {
      "name": "python"
    }
  },
  "cells": [
    {
      "cell_type": "markdown",
      "metadata": {
        "id": "view-in-github",
        "colab_type": "text"
      },
      "source": [
        "<a href=\"https://colab.research.google.com/github/ChanMin02/Self-Study/blob/main/1)%206.100L%20%7C%20Fall%202022%20%7C%20Introduction%20To%20CS%20And%20Programming%20Using%20Python/lec8/try3.ipynb\" target=\"_parent\"><img src=\"https://colab.research.google.com/assets/colab-badge.svg\" alt=\"Open In Colab\"/></a>"
      ]
    },
    {
      "cell_type": "code",
      "execution_count": 18,
      "metadata": {
        "colab": {
          "base_uri": "https://localhost:8080/"
        },
        "id": "pZ2CLHoBIVYy",
        "outputId": "ac92f9fb-c992-41a9-8bf8-002b4e29c881"
      },
      "outputs": [
        {
          "output_type": "stream",
          "name": "stdout",
          "text": [
            "4\n",
            "40\n"
          ]
        }
      ],
      "source": [
        "\"\"\"\n",
        " Write a function that satisfies the following specs\n",
        "def count_nums_with_sqrt_close_to (n, epsilon):\n",
        "  n is an int > 2\n",
        "  epsilon is a positive number < 1\n",
        "  Returns how many integers have a square root within epsilon of n\n",
        "Use bisection_root we already wrote to get an approximation for the sqrt of an integer.\n",
        "\"\"\"\n",
        "\n",
        "def bisection_root(x):\n",
        "  epsilon = 0.01\n",
        "  low = 0\n",
        "  high = x\n",
        "  ans = (high + low)/2.0\n",
        "  while abs(ans**2 - x) >= epsilon:\n",
        "    if ans**2 < x:\n",
        "      low = ans\n",
        "    else:\n",
        "      high = ans\n",
        "    ans = (high + low)/2.0\n",
        "  # print(ans, 'is close to the root of', x)\n",
        "  return ans\n",
        "\n",
        "def count_nums_with_sqrt_close_to (n, epsilon):\n",
        "  count = 0\n",
        "  for i in range(n**3):\n",
        "    sqrt = bisection_root(i)\n",
        "    if abs(n-sqrt) < epsilon:\n",
        "      count += 1\n",
        "  return count\n",
        "\n",
        "print(count_nums_with_sqrt_close_to(10, 0.1))\n",
        "print(count_nums_with_sqrt_close_to(10, 1))"
      ]
    }
  ]
}