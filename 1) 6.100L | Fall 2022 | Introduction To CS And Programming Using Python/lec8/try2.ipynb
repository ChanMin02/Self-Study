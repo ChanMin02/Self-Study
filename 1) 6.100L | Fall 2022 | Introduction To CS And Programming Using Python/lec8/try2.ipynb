{
  "nbformat": 4,
  "nbformat_minor": 0,
  "metadata": {
    "colab": {
      "provenance": [],
      "authorship_tag": "ABX9TyM+Qah/6DOOogQV1T1eIbAQ",
      "include_colab_link": true
    },
    "kernelspec": {
      "name": "python3",
      "display_name": "Python 3"
    },
    "language_info": {
      "name": "python"
    }
  },
  "cells": [
    {
      "cell_type": "markdown",
      "metadata": {
        "id": "view-in-github",
        "colab_type": "text"
      },
      "source": [
        "<a href=\"https://colab.research.google.com/github/ChanMin02/Self-Study/blob/main/1)%206.100L%20%7C%20Fall%202022%20%7C%20Introduction%20To%20CS%20And%20Programming%20Using%20Python/lec8/try2.ipynb\" target=\"_parent\"><img src=\"https://colab.research.google.com/assets/colab-badge.svg\" alt=\"Open In Colab\"/></a>"
      ]
    },
    {
      "cell_type": "code",
      "execution_count": 12,
      "metadata": {
        "colab": {
          "base_uri": "https://localhost:8080/"
        },
        "id": "pZ2CLHoBIVYy",
        "outputId": "3721a0a1-3ac9-4c85-f793-40cfc30af707"
      },
      "outputs": [
        {
          "output_type": "stream",
          "name": "stdout",
          "text": [
            "Enter a number: 45\n",
            "True\n"
          ]
        }
      ],
      "source": [
        "\"\"\"\n",
        " Fix the code that tries to write this function\n",
        "def is_triangular(n):\n",
        "n is an int > 0\n",
        "Returns True if n is triangular, i.e. equals a continued\n",
        "summation of natural numbers (1+2+3+...+k), False otherwise\n",
        "  total = 0\n",
        "  for i in range(n):\n",
        "    total += i\n",
        "    if total == n:\n",
        "      print(True)\n",
        "\n",
        "  print(False)\n",
        "\"\"\"\n",
        "\n",
        "def is_triangular(n):\n",
        "\n",
        "  total = 0\n",
        "  i = 0\n",
        "  while total < n:\n",
        "    total += i\n",
        "    i += 1\n",
        "  if total == n:\n",
        "      print(True)\n",
        "  else:\n",
        "    print(False)\n",
        "\n",
        "n = int(input(\"Enter a number: \"))\n",
        "is_triangular(n)"
      ]
    }
  ]
}