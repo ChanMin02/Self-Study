{
  "nbformat": 4,
  "nbformat_minor": 0,
  "metadata": {
    "colab": {
      "provenance": [],
      "authorship_tag": "ABX9TyOgFKqjTy5YO3jnumfIKNoZ",
      "include_colab_link": true
    },
    "kernelspec": {
      "name": "python3",
      "display_name": "Python 3"
    },
    "language_info": {
      "name": "python"
    }
  },
  "cells": [
    {
      "cell_type": "markdown",
      "metadata": {
        "id": "view-in-github",
        "colab_type": "text"
      },
      "source": [
        "<a href=\"https://colab.research.google.com/github/ChanMin02/Self-Study/blob/main/1)%206.100L%20%7C%20Fall%202022%20%7C%20Introduction%20To%20CS%20And%20Programming%20Using%20Python/lec8/try4.ipynb\" target=\"_parent\"><img src=\"https://colab.research.google.com/assets/colab-badge.svg\" alt=\"Open In Colab\"/></a>"
      ]
    },
    {
      "cell_type": "code",
      "execution_count": 13,
      "metadata": {
        "colab": {
          "base_uri": "https://localhost:8080/"
        },
        "id": "pZ2CLHoBIVYy",
        "outputId": "ad357534-2e1c-40f5-9e3e-1b3c33464066"
      },
      "outputs": [
        {
          "output_type": "stream",
          "name": "stdout",
          "text": [
            "Denom was 0.\n",
            "None\n"
          ]
        }
      ],
      "source": [
        "\"\"\"\n",
        " Do a similar trace with the function call\n",
        "\n",
        "def calc(op, x, y):\n",
        "  return op(x,y)\n",
        "def div(a,b):\n",
        "  if b != 0:\n",
        "    return a/b\n",
        "  print(\"Denom was 0.\")\n",
        "res = calc(div,2,0)\n",
        "\n",
        "What is the value of res and what gets printed?\n",
        "  answer: print is none\n",
        "\"\"\"\n",
        "\n",
        "def calc(op, x, y):\n",
        "  return op(x,y)\n",
        "def div(a,b):\n",
        "  if b != 0:\n",
        "    return a/b\n",
        "  print(\"Denom was 0.\")\n",
        "res = calc(div,2,0)\n",
        "\n",
        "print(res)"
      ]
    }
  ]
}