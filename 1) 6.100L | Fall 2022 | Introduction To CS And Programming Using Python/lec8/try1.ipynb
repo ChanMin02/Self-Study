{
  "nbformat": 4,
  "nbformat_minor": 0,
  "metadata": {
    "colab": {
      "provenance": [],
      "authorship_tag": "ABX9TyNtM/UagASX0A78SDbz5dRH",
      "include_colab_link": true
    },
    "kernelspec": {
      "name": "python3",
      "display_name": "Python 3"
    },
    "language_info": {
      "name": "python"
    }
  },
  "cells": [
    {
      "cell_type": "markdown",
      "metadata": {
        "id": "view-in-github",
        "colab_type": "text"
      },
      "source": [
        "<a href=\"https://colab.research.google.com/github/ChanMin02/Self-Study/blob/main/1)%206.100L%20%7C%20Fall%202022%20%7C%20Introduction%20To%20CS%20And%20Programming%20Using%20Python/lec8/try1.ipynb\" target=\"_parent\"><img src=\"https://colab.research.google.com/assets/colab-badge.svg\" alt=\"Open In Colab\"/></a>"
      ]
    },
    {
      "cell_type": "code",
      "execution_count": 1,
      "metadata": {
        "colab": {
          "base_uri": "https://localhost:8080/"
        },
        "id": "pZ2CLHoBIVYy",
        "outputId": "cabd7a46-f2c3-4d20-852f-3040be084642"
      },
      "outputs": [
        {
          "output_type": "stream",
          "name": "stdout",
          "text": [
            "5\n",
            "12\n",
            "20\n",
            "None\n"
          ]
        }
      ],
      "source": [
        "\"\"\"\n",
        " What is printed if you run this code as a file?\n",
        "def add(x,y):\n",
        "  return x+y\n",
        "def mult(x,y):\n",
        "  print(x*y)\n",
        "\"\"\"\n",
        "\n",
        "def add(x,y):\n",
        "  return x+y\n",
        "def mult(x,y):\n",
        "  print(x*y)\n",
        "\n",
        "add(1,2)\n",
        "print(add(2,3))\n",
        "mult(3,4)\n",
        "print(mult(4,5))"
      ]
    }
  ]
}