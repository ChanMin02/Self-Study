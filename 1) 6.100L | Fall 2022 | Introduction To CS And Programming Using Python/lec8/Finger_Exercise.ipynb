{
  "nbformat": 4,
  "nbformat_minor": 0,
  "metadata": {
    "colab": {
      "provenance": [],
      "authorship_tag": "ABX9TyPtgDfqoAPjpwdICIM9HyJ0",
      "include_colab_link": true
    },
    "kernelspec": {
      "name": "python3",
      "display_name": "Python 3"
    },
    "language_info": {
      "name": "python"
    }
  },
  "cells": [
    {
      "cell_type": "markdown",
      "metadata": {
        "id": "view-in-github",
        "colab_type": "text"
      },
      "source": [
        "<a href=\"https://colab.research.google.com/github/ChanMin02/Self-Study/blob/main/1)%206.100L%20%7C%20Fall%202022%20%7C%20Introduction%20To%20CS%20And%20Programming%20Using%20Python/lec8/Finger_Exercise.ipynb\" target=\"_parent\"><img src=\"https://colab.research.google.com/assets/colab-badge.svg\" alt=\"Open In Colab\"/></a>"
      ]
    },
    {
      "cell_type": "code",
      "execution_count": 15,
      "metadata": {
        "colab": {
          "base_uri": "https://localhost:8080/"
        },
        "id": "pZ2CLHoBIVYy",
        "outputId": "edc22b82-9a3c-401f-aefb-5a3df3ca8dae"
      },
      "outputs": [
        {
          "output_type": "stream",
          "name": "stdout",
          "text": [
            "True\n",
            "True\n",
            "False\n",
            "False\n"
          ]
        }
      ],
      "source": [
        "\"\"\"\n",
        "Implement the function that meets the specifications below:\n",
        "\n",
        "def same_chars(s1, s2):\n",
        "\n",
        "    s1 and s2 are strings\n",
        "    Returns boolean True is a character in s1 is also in s2, and vice\n",
        "    versa. If a character only exists in one of s1 or s2, returns False.\n",
        "\n",
        "\n",
        "\"\"\"\n",
        "\n",
        "\n",
        "def same_chars(s1, s2):\n",
        "\n",
        "  for char in s1:\n",
        "    if char not in s2:\n",
        "      return False\n",
        "\n",
        "  for char in s2:\n",
        "    if char not in s1:\n",
        "      return False\n",
        "\n",
        "  return True\n",
        "\n",
        "\n",
        "print(same_chars(\"abc\", \"cab\"))     # prints True\n",
        "print(same_chars(\"abccc\", \"caaab\")) # prints True\n",
        "print(same_chars(\"abcd\", \"cabaa\"))  # prints False\n",
        "print(same_chars(\"abcabc\", \"cabz\")) # prints False"
      ]
    }
  ]
}