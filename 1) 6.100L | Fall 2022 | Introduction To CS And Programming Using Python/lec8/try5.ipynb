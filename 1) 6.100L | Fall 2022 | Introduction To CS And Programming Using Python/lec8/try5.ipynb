{
  "nbformat": 4,
  "nbformat_minor": 0,
  "metadata": {
    "colab": {
      "provenance": [],
      "authorship_tag": "ABX9TyPx1z5jlqlyB0srD8qHQkCs",
      "include_colab_link": true
    },
    "kernelspec": {
      "name": "python3",
      "display_name": "Python 3"
    },
    "language_info": {
      "name": "python"
    }
  },
  "cells": [
    {
      "cell_type": "markdown",
      "metadata": {
        "id": "view-in-github",
        "colab_type": "text"
      },
      "source": [
        "<a href=\"https://colab.research.google.com/github/ChanMin02/Self-Study/blob/main/1)%206.100L%20%7C%20Fall%202022%20%7C%20Introduction%20To%20CS%20And%20Programming%20Using%20Python/lec8/try5.ipynb\" target=\"_parent\"><img src=\"https://colab.research.google.com/assets/colab-badge.svg\" alt=\"Open In Colab\"/></a>"
      ]
    },
    {
      "cell_type": "code",
      "execution_count": 14,
      "metadata": {
        "colab": {
          "base_uri": "https://localhost:8080/"
        },
        "id": "pZ2CLHoBIVYy",
        "outputId": "0235f4b1-2ca3-4610-f298-6414ee295e1a"
      },
      "outputs": [
        {
          "name": "stdout",
          "output_type": "stream",
          "text": [
            "Enter a number: 10\n"
          ]
        },
        {
          "output_type": "execute_result",
          "data": {
            "text/plain": [
              "5"
            ]
          },
          "metadata": {},
          "execution_count": 14
        }
      ],
      "source": [
        "\"\"\"\n",
        " Write a function that meets these specs.\n",
        "def apply(criteria,n):\n",
        "\n",
        "* criteria is a func that takes in a number and returns a bool\n",
        "* n is an int\n",
        "Returns how many ints from 0 to n (inclusive) match\n",
        "the criteria (i.e. return True when run with criteria)\n",
        "\n",
        "\"\"\"\n",
        "\n",
        "def criteria(n):\n",
        "  return n%2 == 0\n",
        "\n",
        "def apply(criteria,n):\n",
        "\n",
        "  count = 0\n",
        "  for i in range(n):\n",
        "    if criteria(i):\n",
        "      count += 1\n",
        "  return count\n",
        "\n",
        "n = int(input(\"Enter a number: \"))\n",
        "apply(criteria,n)\n",
        "\n"
      ]
    }
  ]
}