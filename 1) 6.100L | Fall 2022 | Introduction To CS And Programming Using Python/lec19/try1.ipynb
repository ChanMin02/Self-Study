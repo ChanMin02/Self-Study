{
  "nbformat": 4,
  "nbformat_minor": 0,
  "metadata": {
    "colab": {
      "provenance": [],
      "authorship_tag": "ABX9TyPvXcqOaaldRHWM+8sxBRhg",
      "include_colab_link": true
    },
    "kernelspec": {
      "name": "python3",
      "display_name": "Python 3"
    },
    "language_info": {
      "name": "python"
    }
  },
  "cells": [
    {
      "cell_type": "markdown",
      "metadata": {
        "id": "view-in-github",
        "colab_type": "text"
      },
      "source": [
        "<a href=\"https://colab.research.google.com/github/ChanMin02/Self-Study/blob/main/1)%206.100L%20%7C%20Fall%202022%20%7C%20Introduction%20To%20CS%20And%20Programming%20Using%20Python/lec19/try1.ipynb\" target=\"_parent\"><img src=\"https://colab.research.google.com/assets/colab-badge.svg\" alt=\"Open In Colab\"/></a>"
      ]
    },
    {
      "cell_type": "code",
      "execution_count": 6,
      "metadata": {
        "colab": {
          "base_uri": "https://localhost:8080/"
        },
        "id": "pZ2CLHoBIVYy",
        "outputId": "0f2decef-f342-40eb-a18b-a9dae54d2081"
      },
      "outputs": [
        {
          "output_type": "stream",
          "name": "stdout",
          "text": [
            "[<__main__.Animal object at 0x7f941b7dead0>, <__main__.Animal object at 0x7f941b7dec90>, <__main__.Animal object at 0x7f941b7decd0>]\n",
            "animal:blobfish:2\n",
            "animal:crazyant:5\n",
            "animal:parafox:1\n"
          ]
        }
      ],
      "source": [
        "class Animal(object):\n",
        "  def __init__(self, age,name):\n",
        "    self.age = age\n",
        "    self.name = name\n",
        "  def __str__(self):\n",
        "    return \"animal:\"+str(self.name)+\":\"+str(self.age)\n",
        "  def get_age(self):\n",
        "    return self.age\n",
        "  def set_age(self, newage):\n",
        "    self.age = newage\n",
        "\n",
        "def make_animals(L1, L2):\n",
        "  L = []\n",
        "  for i in range(len(L1)):\n",
        "    L.append(Animal(L1[i],L2[i]))\n",
        "  return L\n",
        "\n",
        "#For example:\n",
        "L1 = [2,5,1]\n",
        "L2 = [\"blobfish\", \"crazyant\", \"parafox\"]\n",
        "animals = make_animals(L1, L2)\n",
        "print(animals) # note this prints a list of animal objects\n",
        "for i in animals: # this loop prints the individual animals\n",
        " print(i)"
      ]
    }
  ]
}