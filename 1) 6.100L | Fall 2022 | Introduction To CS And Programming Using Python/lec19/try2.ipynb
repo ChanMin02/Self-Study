{
  "nbformat": 4,
  "nbformat_minor": 0,
  "metadata": {
    "colab": {
      "provenance": [],
      "authorship_tag": "ABX9TyPPFiAt2+nAynT/mUWoihRO",
      "include_colab_link": true
    },
    "kernelspec": {
      "name": "python3",
      "display_name": "Python 3"
    },
    "language_info": {
      "name": "python"
    }
  },
  "cells": [
    {
      "cell_type": "markdown",
      "metadata": {
        "id": "view-in-github",
        "colab_type": "text"
      },
      "source": [
        "<a href=\"https://colab.research.google.com/github/ChanMin02/Self-Study/blob/main/1)%206.100L%20%7C%20Fall%202022%20%7C%20Introduction%20To%20CS%20And%20Programming%20Using%20Python/lec19/try2.ipynb\" target=\"_parent\"><img src=\"https://colab.research.google.com/assets/colab-badge.svg\" alt=\"Open In Colab\"/></a>"
      ]
    },
    {
      "cell_type": "code",
      "execution_count": 11,
      "metadata": {
        "colab": {
          "base_uri": "https://localhost:8080/"
        },
        "id": "pZ2CLHoBIVYy",
        "outputId": "5aaec0f2-16a1-4449-9b42-17986df77e4d"
      },
      "outputs": [
        {
          "output_type": "stream",
          "name": "stdout",
          "text": [
            "ana:furball\n",
            "james:fluffsphere\n"
          ]
        }
      ],
      "source": [
        "class Animal(object):\n",
        "  def __init__(self, age):\n",
        "    self.age = age\n",
        "    self.name = None\n",
        "  def get_age(self):\n",
        "    return self.age\n",
        "  def get_name(self):\n",
        "    return self.name\n",
        "  def set_age(self, newage):\n",
        "    self.age = newage\n",
        "  def set_name(self, newname=\"\"):\n",
        "   self.name = newname\n",
        "  def __str__(self):\n",
        "   return \"animal:\"+str(self.name)+\":\"+str(self.age)\n",
        "\n",
        "def make_animals(L1, L2):\n",
        "  L = []\n",
        "  for i in range(len(L1)):\n",
        "    L.append(Animal(L1[i],L2[i]))\n",
        "  return L\n",
        "\n",
        "\n",
        "class Cat(Animal):\n",
        "  def speak(self):\n",
        "    print(\"meow\")\n",
        "  def __str__(self):\n",
        "    return \"cat:\"+str(self.name)+\":\"+str(self.age)\n",
        "\n",
        "class Person(Animal):\n",
        "  def __init__(self, name, age):\n",
        "    Animal.__init__(self, age)\n",
        "    self.set_name(name)\n",
        "    self.friends = []\n",
        "  def get_friends(self):\n",
        "    return self.friends.copy()\n",
        "  def add_friend(self, fname):\n",
        "    if fname not in self.friends:\n",
        "      self.friends.append(fname)\n",
        "\n",
        "  def speak(self):\n",
        "    print(\"hello\")\n",
        "  def age_diff(self, other):\n",
        "    diff = self.age - other.age\n",
        "    print(abs(diff), \"year difference\")\n",
        "  def __str__(self):\n",
        "    return \"person:\"+str(self.name)+\":\"+str(self.age)\n",
        "\n",
        "\n",
        "def make_pets(d):\n",
        "  for i in d.keys():\n",
        "    print(i.name+':'+d[i].name)\n",
        "\n",
        "p1 = Person(\"ana\", 86)\n",
        "p2 = Person(\"james\", 7)\n",
        "c1 = Cat(1)\n",
        "c1.set_name(\"furball\")\n",
        "c2 = Cat(1)\n",
        "c2.set_name(\"fluffsphere\")\n",
        "\n",
        "d = {p1:c1, p2:c2}\n",
        "make_pets(d) # prints ana:furball\n",
        "\n",
        "# james:fluffsphere"
      ]
    }
  ]
}