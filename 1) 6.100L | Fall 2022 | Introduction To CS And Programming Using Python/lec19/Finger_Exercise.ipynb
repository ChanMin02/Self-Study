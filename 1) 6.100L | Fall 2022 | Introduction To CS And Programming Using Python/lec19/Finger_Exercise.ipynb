{
  "nbformat": 4,
  "nbformat_minor": 0,
  "metadata": {
    "colab": {
      "provenance": [],
      "authorship_tag": "ABX9TyP/jVIqtHG1MBfCRED1k4vv",
      "include_colab_link": true
    },
    "kernelspec": {
      "name": "python3",
      "display_name": "Python 3"
    },
    "language_info": {
      "name": "python"
    }
  },
  "cells": [
    {
      "cell_type": "markdown",
      "metadata": {
        "id": "view-in-github",
        "colab_type": "text"
      },
      "source": [
        "<a href=\"https://colab.research.google.com/github/ChanMin02/Self-Study/blob/main/1)%206.100L%20%7C%20Fall%202022%20%7C%20Introduction%20To%20CS%20And%20Programming%20Using%20Python/lec19/Finger_Exercise.ipynb\" target=\"_parent\"><img src=\"https://colab.research.google.com/assets/colab-badge.svg\" alt=\"Open In Colab\"/></a>"
      ]
    },
    {
      "cell_type": "code",
      "execution_count": 17,
      "metadata": {
        "colab": {
          "base_uri": "https://localhost:8080/"
        },
        "id": "pZ2CLHoBIVYy",
        "outputId": "3917e332-df95-481a-82be-030f23fa7b9d"
      },
      "outputs": [
        {
          "output_type": "stream",
          "name": "stdout",
          "text": [
            "[1, 2]\n",
            "2\n",
            "[1]\n"
          ]
        }
      ],
      "source": [
        "class Container(object):\n",
        "    \"\"\"\n",
        "    A container object is a list and can store elements of any type\n",
        "    \"\"\"\n",
        "    def __init__(self):\n",
        "        \"\"\"\n",
        "        Initializes an empty list\n",
        "        \"\"\"\n",
        "        self.myList = []\n",
        "\n",
        "    def size(self):\n",
        "        \"\"\"\n",
        "        Returns the length of the container list\n",
        "        \"\"\"\n",
        "        # Your code here\n",
        "        return len(self.myList)\n",
        "\n",
        "    def add(self, elem):\n",
        "        \"\"\"\n",
        "        Adds the elem to one end of the container list, keeping the end\n",
        "        you add to consistent. Does not return anything\n",
        "        \"\"\"\n",
        "        # Your code here\n",
        "        self.myList.append(elem)\n",
        "\n",
        "class Stack(Container):\n",
        "    \"\"\"\n",
        "    A subclass of Container. Has an additional method to remove elements.\n",
        "    \"\"\"\n",
        "    def remove(self):\n",
        "        \"\"\"\n",
        "        The newest element in the container list is removed\n",
        "        Returns the element removed or None if the queue contains no elements\n",
        "        \"\"\"\n",
        "        # Your code here\n",
        "        return self.myList.pop()\n",
        "\n",
        "L = Stack()\n",
        "L.add(1)\n",
        "L.add(2)\n",
        "print(L.myList)\n",
        "print(L.remove())\n",
        "print(L.myList)"
      ]
    }
  ]
}