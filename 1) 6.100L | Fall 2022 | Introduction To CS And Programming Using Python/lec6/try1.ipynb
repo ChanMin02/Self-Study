{
  "nbformat": 4,
  "nbformat_minor": 0,
  "metadata": {
    "colab": {
      "provenance": [],
      "authorship_tag": "ABX9TyNdWQAx7ZmlrjN7fSqQUjtS",
      "include_colab_link": true
    },
    "kernelspec": {
      "name": "python3",
      "display_name": "Python 3"
    },
    "language_info": {
      "name": "python"
    }
  },
  "cells": [
    {
      "cell_type": "markdown",
      "metadata": {
        "id": "view-in-github",
        "colab_type": "text"
      },
      "source": [
        "<a href=\"https://colab.research.google.com/github/ChanMin02/Self-Study/blob/main/1)%206.100L%20%7C%20Fall%202022%20%7C%20Introduction%20To%20CS%20And%20Programming%20Using%20Python/lec6/try1.ipynb\" target=\"_parent\"><img src=\"https://colab.research.google.com/assets/colab-badge.svg\" alt=\"Open In Colab\"/></a>"
      ]
    },
    {
      "cell_type": "code",
      "execution_count": 16,
      "metadata": {
        "colab": {
          "base_uri": "https://localhost:8080/"
        },
        "id": "pZ2CLHoBIVYy",
        "outputId": "dd08428b-7395-4447-c91d-b62f04fc82e5"
      },
      "outputs": [
        {
          "output_type": "stream",
          "name": "stdout",
          "text": [
            "Enter your PIN code: 1010\n",
            "1010\n"
          ]
        }
      ],
      "source": [
        "\"\"\"\n",
        " You are guessing a 4 digit pin code. The only feedback the phone tells you is whether your guess is correct or not.\n",
        "Can you use bisection search to quickly and correctly guess the code?\n",
        "\"\"\"\n",
        "\n",
        "pin = int(input(\"Enter your PIN code: \"))\n",
        "\n",
        "start = 0\n",
        "end = 9999\n",
        "middle = int((start + end) / 2)\n",
        "\n",
        "while middle >= start and middle < end :\n",
        "  if pin < middle:\n",
        "    end = middle\n",
        "  elif pin > middle:\n",
        "    start = middle\n",
        "  else :\n",
        "    break\n",
        "  middle = int((start + end) / 2)\n",
        "\n",
        "\n",
        "if middle // 1000 > 0:\n",
        "  print(middle)\n",
        "elif middle // 100 > 0:\n",
        "  print(\"0\"+str(middle))\n",
        "elif middle // 10 > 0:\n",
        "  print(\"00\"+str(middle))\n",
        "else:\n",
        "  print(\"000\"+str(middle))"
      ]
    }
  ]
}