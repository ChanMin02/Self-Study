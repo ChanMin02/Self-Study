{
  "nbformat": 4,
  "nbformat_minor": 0,
  "metadata": {
    "colab": {
      "provenance": [],
      "authorship_tag": "ABX9TyMcs7SrAs8o8qYMM0Fsk7nP",
      "include_colab_link": true
    },
    "kernelspec": {
      "name": "python3",
      "display_name": "Python 3"
    },
    "language_info": {
      "name": "python"
    }
  },
  "cells": [
    {
      "cell_type": "markdown",
      "metadata": {
        "id": "view-in-github",
        "colab_type": "text"
      },
      "source": [
        "<a href=\"https://colab.research.google.com/github/ChanMin02/Self-Study/blob/main/1)%206.100L%20%7C%20Fall%202022%20%7C%20Introduction%20To%20CS%20And%20Programming%20Using%20Python/lec6/try2.ipynb\" target=\"_parent\"><img src=\"https://colab.research.google.com/assets/colab-badge.svg\" alt=\"Open In Colab\"/></a>"
      ]
    },
    {
      "cell_type": "code",
      "execution_count": 20,
      "metadata": {
        "colab": {
          "base_uri": "https://localhost:8080/"
        },
        "id": "pZ2CLHoBIVYy",
        "outputId": "52627e45-0113-4b03-da0b-4c7d686a667d"
      },
      "outputs": [
        {
          "output_type": "stream",
          "name": "stdout",
          "text": [
            "Enter your float: 5.999\n",
            "5.999\n"
          ]
        }
      ],
      "source": [
        "\"\"\"\n",
        "You are playing an EXTREME guessing game to guess a number EXACTLY.\n",
        "A friend has a decimal number between 0 and 10 (to any precision) in mind.\n",
        "The feedback on your guess is whether it is correct, too high, or too low. Can you use bisection search to quickly and correctly guess the number?\n",
        "\"\"\"\n",
        "\n",
        "number = float(input(\"Enter your float: \"))\n",
        "\n",
        "start = 0.0\n",
        "end = 10.0\n",
        "middle = ((start + end) / 2)\n",
        "\n",
        "while middle >= start and middle < end :\n",
        "  if number < middle:\n",
        "    end = middle\n",
        "  elif number > middle:\n",
        "    start = middle\n",
        "  else :\n",
        "    break\n",
        "  middle = ((start + end) / 2)\n",
        "\n",
        "print(middle)"
      ]
    }
  ]
}