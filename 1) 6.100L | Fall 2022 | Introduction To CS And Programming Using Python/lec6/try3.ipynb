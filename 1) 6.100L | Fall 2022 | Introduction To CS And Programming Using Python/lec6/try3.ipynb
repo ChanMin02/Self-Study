{
  "nbformat": 4,
  "nbformat_minor": 0,
  "metadata": {
    "colab": {
      "provenance": [],
      "authorship_tag": "ABX9TyMeCRvmFypKNbJYorhxbZZJ",
      "include_colab_link": true
    },
    "kernelspec": {
      "name": "python3",
      "display_name": "Python 3"
    },
    "language_info": {
      "name": "python"
    }
  },
  "cells": [
    {
      "cell_type": "markdown",
      "metadata": {
        "id": "view-in-github",
        "colab_type": "text"
      },
      "source": [
        "<a href=\"https://colab.research.google.com/github/ChanMin02/Self-Study/blob/main/1)%206.100L%20%7C%20Fall%202022%20%7C%20Introduction%20To%20CS%20And%20Programming%20Using%20Python/lec6/try3.ipynb\" target=\"_parent\"><img src=\"https://colab.research.google.com/assets/colab-badge.svg\" alt=\"Open In Colab\"/></a>"
      ]
    },
    {
      "cell_type": "code",
      "execution_count": 28,
      "metadata": {
        "colab": {
          "base_uri": "https://localhost:8080/"
        },
        "id": "pZ2CLHoBIVYy",
        "outputId": "05695b74-428a-4e96-ac63-dcab8e5bfeb4"
      },
      "outputs": [
        {
          "output_type": "stream",
          "name": "stdout",
          "text": [
            "Enter a positive number: 90\n",
            "4.481391906738281\n"
          ]
        }
      ],
      "source": [
        "\"\"\"\n",
        " Write code to do bisection search to find the cube root of positive cubes within some epsilon.\n",
        "Start with:\n",
        "cube = 27\n",
        "epsilon = 0.01\n",
        "low = 0\n",
        "high = cube\n",
        "\"\"\"\n",
        "\n",
        "cube = float(input(\"Enter a positive number: \"))\n",
        "epsilon = 0.01\n",
        "low = 0\n",
        "high = cube\n",
        "guess = (high + low)/2\n",
        "\n",
        "\n",
        "while abs(cube - guess**3) > epsilon:\n",
        "  if guess**3 < cube:\n",
        "    low = guess\n",
        "  else :\n",
        "    high = guess\n",
        "\n",
        "  guess = (high + low)/2\n",
        "\n",
        "print(guess)"
      ]
    }
  ]
}