{
  "nbformat": 4,
  "nbformat_minor": 0,
  "metadata": {
    "colab": {
      "provenance": [],
      "authorship_tag": "ABX9TyNhni6DCew+s7omQNABYKEe",
      "include_colab_link": true
    },
    "kernelspec": {
      "name": "python3",
      "display_name": "Python 3"
    },
    "language_info": {
      "name": "python"
    }
  },
  "cells": [
    {
      "cell_type": "markdown",
      "metadata": {
        "id": "view-in-github",
        "colab_type": "text"
      },
      "source": [
        "<a href=\"https://colab.research.google.com/github/ChanMin02/Self-Study/blob/main/1)%206.100L%20%7C%20Fall%202022%20%7C%20Introduction%20To%20CS%20And%20Programming%20Using%20Python/lec6/Finger_Exercise.ipynb\" target=\"_parent\"><img src=\"https://colab.research.google.com/assets/colab-badge.svg\" alt=\"Open In Colab\"/></a>"
      ]
    },
    {
      "cell_type": "code",
      "execution_count": 4,
      "metadata": {
        "colab": {
          "base_uri": "https://localhost:8080/"
        },
        "id": "pZ2CLHoBIVYy",
        "outputId": "b1bdfcee-0a77-475f-e5a8-9b51d9b2e4fe"
      },
      "outputs": [
        {
          "output_type": "stream",
          "name": "stdout",
          "text": [
            "Enter a N: 300\n",
            "count: 8\n",
            "answer: 300\n"
          ]
        }
      ],
      "source": [
        "\"\"\"\n",
        "Assume you are given an integer 0 \\<= N \\\\<= 1000.\n",
        "Write a piece of Python code that uses bisection search to guess N.\n",
        "The code prints two lines: count: with how many guesses it took to find N, and answer: with the value of N.\n",
        "Hints: If the halfway value is exactly in between two integers, choose the smaller one.\n",
        "\"\"\"\n",
        "\n",
        "N = int(input(\"Enter a N: \"))\n",
        "\n",
        "low = 0\n",
        "high = 1000\n",
        "middle = int((low + high)/2)\n",
        "count = 1\n",
        "\n",
        "while low <= middle <= high:\n",
        "  if N > middle:\n",
        "    low = middle\n",
        "  elif N < middle:\n",
        "    high = middle\n",
        "  else:\n",
        "    break\n",
        "  middle = int((low + high)/2)\n",
        "  count += 1\n",
        "\n",
        "print(\"count:\", count)\n",
        "print(\"answer:\", middle)"
      ]
    }
  ]
}