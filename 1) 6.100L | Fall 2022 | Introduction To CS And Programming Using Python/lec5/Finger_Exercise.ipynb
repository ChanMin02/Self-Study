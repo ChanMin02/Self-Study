{
  "nbformat": 4,
  "nbformat_minor": 0,
  "metadata": {
    "colab": {
      "provenance": [],
      "authorship_tag": "ABX9TyPsGHXoj8wkf+7Y+6P0Zy4u",
      "include_colab_link": true
    },
    "kernelspec": {
      "name": "python3",
      "display_name": "Python 3"
    },
    "language_info": {
      "name": "python"
    }
  },
  "cells": [
    {
      "cell_type": "markdown",
      "metadata": {
        "id": "view-in-github",
        "colab_type": "text"
      },
      "source": [
        "<a href=\"https://colab.research.google.com/github/ChanMin02/Self-Study/blob/main/1)%206.100L%20%7C%20Fall%202022%20%7C%20Introduction%20To%20CS%20And%20Programming%20Using%20Python/lec5/Finger_Exercise.ipynb\" target=\"_parent\"><img src=\"https://colab.research.google.com/assets/colab-badge.svg\" alt=\"Open In Colab\"/></a>"
      ]
    },
    {
      "cell_type": "code",
      "execution_count": 6,
      "metadata": {
        "colab": {
          "base_uri": "https://localhost:8080/"
        },
        "id": "pZ2CLHoBIVYy",
        "outputId": "eaed710d-11fd-40c6-de17-b27955e5a4dc"
      },
      "outputs": [
        {
          "output_type": "stream",
          "name": "stdout",
          "text": [
            "Enter a string: abcdefg\n",
            "aceg\n"
          ]
        }
      ],
      "source": [
        "\"\"\"\n",
        "Assume you are given a string variable named my_str.\n",
        "Write a piece of Python code that prints out a new string containing the even indexed characters of my_str.\n",
        "For example, if my_str = \"abcdefg\" then your code should print out aceg.\n",
        "\"\"\"\n",
        "\n",
        "my_str = input(\"Enter a string: \")\n",
        "print(my_str[::2])"
      ]
    }
  ]
}