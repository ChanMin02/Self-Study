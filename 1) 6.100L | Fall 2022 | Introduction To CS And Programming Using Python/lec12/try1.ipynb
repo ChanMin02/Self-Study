{
  "nbformat": 4,
  "nbformat_minor": 0,
  "metadata": {
    "colab": {
      "provenance": [],
      "authorship_tag": "ABX9TyNXhj9WMDp8oPFY267S+9yR",
      "include_colab_link": true
    },
    "kernelspec": {
      "name": "python3",
      "display_name": "Python 3"
    },
    "language_info": {
      "name": "python"
    }
  },
  "cells": [
    {
      "cell_type": "markdown",
      "metadata": {
        "id": "view-in-github",
        "colab_type": "text"
      },
      "source": [
        "<a href=\"https://colab.research.google.com/github/ChanMin02/Self-Study/blob/main/1)%206.100L%20%7C%20Fall%202022%20%7C%20Introduction%20To%20CS%20And%20Programming%20Using%20Python/lec12/try1.ipynb\" target=\"_parent\"><img src=\"https://colab.research.google.com/assets/colab-badge.svg\" alt=\"Open In Colab\"/></a>"
      ]
    },
    {
      "cell_type": "code",
      "execution_count": 20,
      "metadata": {
        "colab": {
          "base_uri": "https://localhost:8080/"
        },
        "id": "pZ2CLHoBIVYy",
        "outputId": "977d0886-ed37-4f34-dcb4-a0610c4a1f43"
      },
      "outputs": [
        {
          "output_type": "execute_result",
          "data": {
            "text/plain": [
              "[2, 4, 3]"
            ]
          },
          "metadata": {},
          "execution_count": 20
        }
      ],
      "source": [
        "\"\"\"\n",
        " What is the value returned by this expression?\n",
        " Step1: what are all values in the sequence\n",
        " Step2: which subset of values does the condition filter out?\n",
        " Step3: apply the function to those values\n",
        "\n",
        "[len(x) for x in ['xy', 'abcd', 7, '4.0'] if type(x) == str]\n",
        "\"\"\"\n",
        "\n",
        "[len(x) for x in ['xy', 'abcd', 7, '4.0'] if type(x) == str]\n",
        "#[2,4,3]\n",
        "#['xy','abcd','4.0']"
      ]
    }
  ]
}