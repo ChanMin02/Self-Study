{
  "nbformat": 4,
  "nbformat_minor": 0,
  "metadata": {
    "colab": {
      "provenance": [],
      "authorship_tag": "ABX9TyNF/DSNBE8lASt+71f9KUs3",
      "include_colab_link": true
    },
    "kernelspec": {
      "name": "python3",
      "display_name": "Python 3"
    },
    "language_info": {
      "name": "python"
    }
  },
  "cells": [
    {
      "cell_type": "markdown",
      "metadata": {
        "id": "view-in-github",
        "colab_type": "text"
      },
      "source": [
        "<a href=\"https://colab.research.google.com/github/ChanMin02/Self-Study/blob/main/1)%206.100L%20%7C%20Fall%202022%20%7C%20Introduction%20To%20CS%20And%20Programming%20Using%20Python/lec12/Finger_Exercise.ipynb\" target=\"_parent\"><img src=\"https://colab.research.google.com/assets/colab-badge.svg\" alt=\"Open In Colab\"/></a>"
      ]
    },
    {
      "cell_type": "code",
      "execution_count": 2,
      "metadata": {
        "colab": {
          "base_uri": "https://localhost:8080/"
        },
        "id": "pZ2CLHoBIVYy",
        "outputId": "7435cbb5-58e0-4052-f6f6-ebbd84e9bda4"
      },
      "outputs": [
        {
          "output_type": "stream",
          "name": "stdout",
          "text": [
            "3\n"
          ]
        }
      ],
      "source": [
        "\"\"\"\n",
        "Implement the function that meets the specifications below:\n",
        "\n",
        "def count_sqrts(nums_list):\n",
        "    nums_list: a list\n",
        "    Assumes that nums_list only contains positive numbers and that there are no duplicates.\n",
        "    Returns how many elements in nums_list are exact squares of elements in the same list, including itself.\n",
        "\n",
        "\"\"\"\n",
        "\n",
        "def count_sqrts(nums_list):\n",
        "  count = 0\n",
        "\n",
        "  for n in nums_list:\n",
        "    if n**2 in nums_list:\n",
        "      count += 1\n",
        "  return count\n",
        "\n",
        "# Examples:\n",
        "print(count_sqrts([3,4,2,1,9,25])) # prints 3"
      ]
    }
  ]
}