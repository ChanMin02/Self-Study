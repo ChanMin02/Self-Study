{
  "nbformat": 4,
  "nbformat_minor": 0,
  "metadata": {
    "colab": {
      "provenance": [],
      "authorship_tag": "ABX9TyMPpzn856ERqeob0BR+oZM8",
      "include_colab_link": true
    },
    "kernelspec": {
      "name": "python3",
      "display_name": "Python 3"
    },
    "language_info": {
      "name": "python"
    }
  },
  "cells": [
    {
      "cell_type": "markdown",
      "metadata": {
        "id": "view-in-github",
        "colab_type": "text"
      },
      "source": [
        "<a href=\"https://colab.research.google.com/github/ChanMin02/Self-Study/blob/main/1)%206.100L%20%7C%20Fall%202022%20%7C%20Introduction%20To%20CS%20And%20Programming%20Using%20Python/lec7/try1.ipynb\" target=\"_parent\"><img src=\"https://colab.research.google.com/assets/colab-badge.svg\" alt=\"Open In Colab\"/></a>"
      ]
    },
    {
      "cell_type": "code",
      "execution_count": 6,
      "metadata": {
        "colab": {
          "base_uri": "https://localhost:8080/"
        },
        "id": "pZ2CLHoBIVYy",
        "outputId": "58e4d311-691e-4dc1-fde9-26d2a809436f"
      },
      "outputs": [
        {
          "output_type": "stream",
          "name": "stdout",
          "text": [
            "Enter a number: 195\n",
            "Enter a divisor: 13\n",
            "True\n"
          ]
        }
      ],
      "source": [
        "\"\"\"\n",
        " Write code that satisfies the following specs\n",
        "\n",
        "def div_by(n, d):\n",
        " n and d are ints > 0\n",
        "  Returns True if d divides n evenly and False otherwise\n",
        "\n",
        "Test your code with:\n",
        " n = 10 and d = 3\n",
        " n = 195 and d = 13\n",
        "\"\"\"\n",
        "\n",
        "def div_by(n, d):\n",
        "  return n%d == 0\n",
        "\n",
        "n = int(input(\"Enter a number: \"))\n",
        "d = int(input(\"Enter a divisor: \"))\n",
        "print(div_by(n, d))\n"
      ]
    }
  ]
}