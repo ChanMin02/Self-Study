{
  "nbformat": 4,
  "nbformat_minor": 0,
  "metadata": {
    "colab": {
      "provenance": [],
      "authorship_tag": "ABX9TyOMMY58IrzoNg+AkXzNEndi",
      "include_colab_link": true
    },
    "kernelspec": {
      "name": "python3",
      "display_name": "Python 3"
    },
    "language_info": {
      "name": "python"
    }
  },
  "cells": [
    {
      "cell_type": "markdown",
      "metadata": {
        "id": "view-in-github",
        "colab_type": "text"
      },
      "source": [
        "<a href=\"https://colab.research.google.com/github/ChanMin02/Self-Study/blob/main/1)%206.100L%20%7C%20Fall%202022%20%7C%20Introduction%20To%20CS%20And%20Programming%20Using%20Python/lec7/Finger_Exercise.ipynb\" target=\"_parent\"><img src=\"https://colab.research.google.com/assets/colab-badge.svg\" alt=\"Open In Colab\"/></a>"
      ]
    },
    {
      "cell_type": "code",
      "execution_count": 12,
      "metadata": {
        "colab": {
          "base_uri": "https://localhost:8080/"
        },
        "id": "pZ2CLHoBIVYy",
        "outputId": "098d85cb-7961-4ba8-b40e-b77b31eba8cc"
      },
      "outputs": [
        {
          "output_type": "stream",
          "name": "stdout",
          "text": [
            "Enter the value of a: 2\n",
            "Enter the value of b: 2\n",
            "Enter the value of c: 2\n",
            "Enter the value of x: 2\n",
            "14\n"
          ]
        }
      ],
      "source": [
        "\"\"\"\n",
        "Question 1: Implement the function that meets the specifications below:\n",
        "\n",
        "def eval_quadratic(a, b, c, x):\n",
        "\n",
        "    a, b, c: numerical values for the coefficients of a quadratic equation\n",
        "    x: numerical value at which to evaluate the quadratic.\n",
        "    Returns the value of the quadratic a×x² + b×x + c.\n",
        "\n",
        "    # Your code here\n",
        "\n",
        "# Examples:\n",
        "print(eval_quadratic(1, 1, 1, 1)) # prints 3\n",
        "\"\"\"\n",
        "\n",
        "def eval_quadratic(a, b, c, x):\n",
        "    \"\"\"\n",
        "    a, b, c: numerical values for the coefficients of a quadratic equation\n",
        "    x: numerical value at which to evaluate the quadratic.\n",
        "    Returns the value of the quadratic a×x² + b×x + c.\n",
        "    \"\"\"\n",
        "    # Your code here\n",
        "    return a*x**2+b*x+c\n",
        "\n",
        "a = int(input(\"Enter the value of a: \"))\n",
        "b = int(input(\"Enter the value of b: \"))\n",
        "c = int(input(\"Enter the value of c: \"))\n",
        "x = int(input(\"Enter the value of x: \"))\n",
        "\n",
        "print(eval_quadratic(a,b,c,x))"
      ]
    },
    {
      "cell_type": "code",
      "source": [
        "\"\"\"\n",
        "Question 2: Implement the function that meets the specifications below:\n",
        "\n",
        "def two_quadratics(a1, b1, c1, x1, a2, b2, c2, x2):\n",
        "\n",
        "    a1, b1, c1: one set of coefficients of a quadratic equation\n",
        "    a2, b2, c2: another set of coefficients of a quadratic equation\n",
        "    x1, x2: values at which to evaluate the quadratics\n",
        "    Evaluates one quadratic with coefficients a1, b1, c1, at x1.\n",
        "    Evaluates another quadratic with coefficients a2, b2, c2, at x2.\n",
        "    Prints the sum of the two evaluations. Does not return anything.\n",
        "\n",
        "    # Your code here\n",
        "\n",
        "# Examples:\n",
        "two_quadratics(1, 1, 1, 1, 1, 1, 1, 1) # prints 6\n",
        "print(two_quadratics(1, 1, 1, 1, 1, 1, 1, 1)) # prints 6 then None\n",
        "\"\"\"\n",
        "\n",
        "def two_quadratics(a1, b1, c1, x1, a2, b2, c2, x2):\n",
        "    \"\"\"\n",
        "    a1, b1, c1: one set of coefficients of a quadratic equation\n",
        "    a2, b2, c2: another set of coefficients of a quadratic equation\n",
        "    x1, x2: values at which to evaluate the quadratics\n",
        "    Evaluates one quadratic with coefficients a1, b1, c1, at x1.\n",
        "    Evaluates another quadratic with coefficients a2, b2, c2, at x2.\n",
        "    Prints the sum of the two evaluations. Does not return anything.\n",
        "    \"\"\"\n",
        "    # Your code here\n",
        "    print(eval_quadratic(a1,b1,c1,x1)+eval_quadratic(a2,b2,c2,x2))\n",
        "\n",
        "a1 = int(input(\"Enter the value of a1: \"))\n",
        "b1 = int(input(\"Enter the value of b1: \"))\n",
        "c1 = int(input(\"Enter the value of c1: \"))\n",
        "x1 = int(input(\"Enter the value of x1: \"))\n",
        "\n",
        "a2 = int(input(\"Enter the value of a2: \"))\n",
        "b2 = int(input(\"Enter the value of b2: \"))\n",
        "c2 = int(input(\"Enter the value of c2: \"))\n",
        "x2 = int(input(\"Enter the value of x2: \"))\n",
        "\n",
        "two_quadratics(a1,b1,c1,x1,a2,b2,c2,x2)"
      ],
      "metadata": {
        "colab": {
          "base_uri": "https://localhost:8080/"
        },
        "id": "Sy8aU6RG_z6s",
        "outputId": "67dcf9a2-7fc7-48d9-8f06-9b95bd72b7b0"
      },
      "execution_count": 15,
      "outputs": [
        {
          "output_type": "stream",
          "name": "stdout",
          "text": [
            "Enter the value of a1: 1\n",
            "Enter the value of b1: 1\n",
            "Enter the value of c1: 1\n",
            "Enter the value of x1: 1\n",
            "Enter the value of a2: 1\n",
            "Enter the value of b2: 1\n",
            "Enter the value of c2: 1\n",
            "Enter the value of x2: 1\n",
            "6\n"
          ]
        }
      ]
    }
  ]
}