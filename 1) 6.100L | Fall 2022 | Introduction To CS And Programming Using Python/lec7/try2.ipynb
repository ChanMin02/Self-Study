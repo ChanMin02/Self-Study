{
  "nbformat": 4,
  "nbformat_minor": 0,
  "metadata": {
    "colab": {
      "provenance": [],
      "authorship_tag": "ABX9TyNGVfNyMpj5PgbML7sVeUpL",
      "include_colab_link": true
    },
    "kernelspec": {
      "name": "python3",
      "display_name": "Python 3"
    },
    "language_info": {
      "name": "python"
    }
  },
  "cells": [
    {
      "cell_type": "markdown",
      "metadata": {
        "id": "view-in-github",
        "colab_type": "text"
      },
      "source": [
        "<a href=\"https://colab.research.google.com/github/ChanMin02/Self-Study/blob/main/1)%206.100L%20%7C%20Fall%202022%20%7C%20Introduction%20To%20CS%20And%20Programming%20Using%20Python/lec7/try2.ipynb\" target=\"_parent\"><img src=\"https://colab.research.google.com/assets/colab-badge.svg\" alt=\"Open In Colab\"/></a>"
      ]
    },
    {
      "cell_type": "code",
      "execution_count": 10,
      "metadata": {
        "colab": {
          "base_uri": "https://localhost:8080/"
        },
        "id": "pZ2CLHoBIVYy",
        "outputId": "1fac751c-6e61-4046-9ebd-26bb07c0ed08"
      },
      "outputs": [
        {
          "name": "stdout",
          "output_type": "stream",
          "text": [
            "Enter String: abc\n"
          ]
        },
        {
          "output_type": "execute_result",
          "data": {
            "text/plain": [
              "False"
            ]
          },
          "metadata": {},
          "execution_count": 10
        }
      ],
      "source": [
        "\"\"\"\n",
        " Write code that satisfies the following specs\n",
        "\n",
        "def is_palindrome(s):\n",
        "  s is a string\n",
        "  Returns True if s is a palindrome and False otherwise\n",
        "\n",
        "For example:\n",
        " If s = \"222\" returns True\n",
        " If s = \"2222\" returns True\n",
        " If s = \"abc\" returns False\n",
        "\"\"\"\n",
        "\n",
        "s = input(\"Enter String: \")\n",
        "\n",
        "def is_palindrome(s):\n",
        "  return s == s[::-1]\n",
        "\n",
        "is_palindrome(s)\n"
      ]
    }
  ]
}