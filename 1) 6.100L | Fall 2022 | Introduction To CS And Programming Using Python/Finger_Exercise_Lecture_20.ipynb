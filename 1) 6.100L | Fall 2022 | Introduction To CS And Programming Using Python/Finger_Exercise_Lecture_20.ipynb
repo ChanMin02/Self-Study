{
  "nbformat": 4,
  "nbformat_minor": 0,
  "metadata": {
    "colab": {
      "provenance": [],
      "authorship_tag": "ABX9TyOUXYJLl3R1JSEOmB12EgCr",
      "include_colab_link": true
    },
    "kernelspec": {
      "name": "python3",
      "display_name": "Python 3"
    },
    "language_info": {
      "name": "python"
    }
  },
  "cells": [
    {
      "cell_type": "markdown",
      "metadata": {
        "id": "view-in-github",
        "colab_type": "text"
      },
      "source": [
        "<a href=\"https://colab.research.google.com/github/ChanMin02/Self-Study/blob/main/1)%206.100L%20%7C%20Fall%202022%20%7C%20Introduction%20To%20CS%20And%20Programming%20Using%20Python/Finger_Exercise_Lecture_20.ipynb\" target=\"_parent\"><img src=\"https://colab.research.google.com/assets/colab-badge.svg\" alt=\"Open In Colab\"/></a>"
      ]
    },
    {
      "cell_type": "code",
      "execution_count": 4,
      "metadata": {
        "colab": {
          "base_uri": "https://localhost:8080/"
        },
        "id": "pZ2CLHoBIVYy",
        "outputId": "650524e2-ecce-4abc-e5ce-8de6683736dc"
      },
      "outputs": [
        {
          "output_type": "stream",
          "name": "stdout",
          "text": [
            "[1, 2, 3]\n",
            "[2, 3]\n"
          ]
        }
      ],
      "source": [
        "class Container(object):\n",
        "    \"\"\"\n",
        "    A container object is a list and can store elements of any type\n",
        "    \"\"\"\n",
        "    def __init__(self):\n",
        "        \"\"\"\n",
        "        Initializes an empty list\n",
        "        \"\"\"\n",
        "        self.myList = []\n",
        "\n",
        "    def size(self):\n",
        "        \"\"\"\n",
        "        Returns the length of the container list\n",
        "        \"\"\"\n",
        "        # Your code here\n",
        "        return len(self.myList)\n",
        "\n",
        "    def add(self, elem):\n",
        "        \"\"\"\n",
        "        Adds the elem to one end of the container list, keeping the end\n",
        "        you add to consistent. Does not return anything\n",
        "        \"\"\"\n",
        "        # Your code here\n",
        "        self.myList.append(elem)\n",
        "\n",
        "class Queue(Container):\n",
        "    \"\"\"\n",
        "    A subclass of Container. Has an additional method to remove elements.\n",
        "    \"\"\"\n",
        "    def remove(self):\n",
        "        \"\"\"\n",
        "        The oldest element in the container list is removed\n",
        "        Returns the element removed or None if the stack contains no elements\n",
        "        \"\"\"\n",
        "        # Your code here\n",
        "        if self.size() > 0:\n",
        "          return self.myList.pop(0)\n",
        "        else:\n",
        "          return None\n",
        "\n",
        "q = Queue()\n",
        "q.add(1)\n",
        "q.add(2)\n",
        "q.add(3)\n",
        "print(q.myList)\n",
        "q.remove()\n",
        "print(q.myList)"
      ]
    }
  ]
}