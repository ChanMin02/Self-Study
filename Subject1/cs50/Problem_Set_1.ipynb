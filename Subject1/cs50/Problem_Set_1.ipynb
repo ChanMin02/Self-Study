{
  "nbformat": 4,
  "nbformat_minor": 0,
  "metadata": {
    "colab": {
      "provenance": [],
      "mount_file_id": "1KPQr2dOYVr1HoSBv-Qgr9Jh2kOh7Ra3M",
      "authorship_tag": "ABX9TyOGCV9HPbsxLjKol7k2Pf8P",
      "include_colab_link": true
    },
    "kernelspec": {
      "name": "python3",
      "display_name": "Python 3"
    },
    "language_info": {
      "name": "python"
    }
  },
  "cells": [
    {
      "cell_type": "markdown",
      "metadata": {
        "id": "view-in-github",
        "colab_type": "text"
      },
      "source": [
        "<a href=\"https://colab.research.google.com/github/ChanMin02/Self-Study/blob/main/Subject1/cs50/Problem_Set_1.ipynb\" target=\"_parent\"><img src=\"https://colab.research.google.com/assets/colab-badge.svg\" alt=\"Open In Colab\"/></a>"
      ]
    },
    {
      "cell_type": "code",
      "source": [
        "%%writefile test.cpp\n",
        "#include <stdio.h>\n",
        "int main(void)\n",
        "{\n",
        "  int height = -1;\n",
        "  while (height <= -1){\n",
        "    printf(\"Height: \");\n",
        "    scanf(\"%d\",&height);\n",
        "  }\n",
        "\n",
        "  for (int i=1; i <= height ; i++){\n",
        "    for (int j=height-i; j>0; j--){\n",
        "      printf(\" \");\n",
        "    }\n",
        "    for (int j=1; j<=i; j++){\n",
        "      printf(\"#\");\n",
        "    }\n",
        "    printf(\"\\n\");\n",
        "  }\n",
        "}"
      ],
      "metadata": {
        "id": "jOBB-qcKcBoO",
        "colab": {
          "base_uri": "https://localhost:8080/"
        },
        "outputId": "b93221e0-7e74-42e7-d76f-78be4dfbeabd"
      },
      "execution_count": 32,
      "outputs": [
        {
          "output_type": "stream",
          "name": "stdout",
          "text": [
            "Overwriting test.cpp\n"
          ]
        }
      ]
    },
    {
      "cell_type": "code",
      "source": [
        "%%shell\n",
        "g++ test.cpp -o testexe\n",
        "./testexe"
      ],
      "metadata": {
        "colab": {
          "base_uri": "https://localhost:8080/"
        },
        "id": "yryZ9zNDK9NW",
        "outputId": "2ccc4136-3a4f-444f-c9ec-027eedaced06"
      },
      "execution_count": 33,
      "outputs": [
        {
          "output_type": "stream",
          "name": "stdout",
          "text": [
            "Height: 3\n",
            "  #\n",
            " ##\n",
            "###\n"
          ]
        },
        {
          "output_type": "execute_result",
          "data": {
            "text/plain": []
          },
          "metadata": {},
          "execution_count": 33
        }
      ]
    },
    {
      "cell_type": "code",
      "source": [
        "%%writefile test.cpp\n",
        "#include <stdio.h>\n",
        "int main(void)\n",
        "{\n",
        "  int height = -1;\n",
        "  while (height <= -1){\n",
        "    printf(\"Height: \");\n",
        "    scanf(\"%d\",&height);\n",
        "  }\n",
        "\n",
        "  for (int i=1; i <= height ; i++){\n",
        "    for (int j=7-i; j>0; j--){\n",
        "      printf(\" \");\n",
        "    }\n",
        "    for (int j=1; j<=i; j++){\n",
        "      printf(\"#\");\n",
        "    }\n",
        "    printf(\"  \");\n",
        "    for (int j=1; j<=i; j++){\n",
        "      printf(\"#\");\n",
        "    }\n",
        "    printf(\"\\n\");\n",
        "  }\n",
        "}"
      ],
      "metadata": {
        "colab": {
          "base_uri": "https://localhost:8080/"
        },
        "id": "BHxfZIUPQUXv",
        "outputId": "84c79e4f-b38f-4dd5-c6ae-7cd238fadd15"
      },
      "execution_count": 29,
      "outputs": [
        {
          "output_type": "stream",
          "name": "stdout",
          "text": [
            "Overwriting test.cpp\n"
          ]
        }
      ]
    },
    {
      "cell_type": "code",
      "source": [
        "%%shell\n",
        "g++ test.cpp -o testexe\n",
        "./testexe"
      ],
      "metadata": {
        "colab": {
          "base_uri": "https://localhost:8080/"
        },
        "id": "sKBJwuTYQwAP",
        "outputId": "d05985e2-7042-43f9-b604-71b66fa17322"
      },
      "execution_count": 31,
      "outputs": [
        {
          "output_type": "stream",
          "name": "stdout",
          "text": [
            "Height: 2\n",
            "      #  #\n",
            "     ##  ##\n"
          ]
        },
        {
          "output_type": "execute_result",
          "data": {
            "text/plain": []
          },
          "metadata": {},
          "execution_count": 31
        }
      ]
    },
    {
      "cell_type": "code",
      "source": [],
      "metadata": {
        "id": "cuZyFJkBQxxn"
      },
      "execution_count": null,
      "outputs": []
    }
  ]
}